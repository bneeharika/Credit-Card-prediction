{
 "cells": [
  {
   "cell_type": "code",
   "execution_count": 1,
   "metadata": {},
   "outputs": [
    {
     "name": "stderr",
     "output_type": "stream",
     "text": [
      "C:\\Users\\Neeharika\\Anaconda3\\lib\\site-packages\\pandas_profiling\\plot.py:15: UserWarning: \n",
      "This call to matplotlib.use() has no effect because the backend has already\n",
      "been chosen; matplotlib.use() must be called *before* pylab, matplotlib.pyplot,\n",
      "or matplotlib.backends is imported for the first time.\n",
      "\n",
      "The backend was *originally* set to 'module://ipykernel.pylab.backend_inline' by the following code:\n",
      "  File \"C:\\Users\\Neeharika\\Anaconda3\\lib\\runpy.py\", line 193, in _run_module_as_main\n",
      "    \"__main__\", mod_spec)\n",
      "  File \"C:\\Users\\Neeharika\\Anaconda3\\lib\\runpy.py\", line 85, in _run_code\n",
      "    exec(code, run_globals)\n",
      "  File \"C:\\Users\\Neeharika\\Anaconda3\\lib\\site-packages\\ipykernel_launcher.py\", line 16, in <module>\n",
      "    app.launch_new_instance()\n",
      "  File \"C:\\Users\\Neeharika\\Anaconda3\\lib\\site-packages\\traitlets\\config\\application.py\", line 658, in launch_instance\n",
      "    app.start()\n",
      "  File \"C:\\Users\\Neeharika\\Anaconda3\\lib\\site-packages\\ipykernel\\kernelapp.py\", line 478, in start\n",
      "    self.io_loop.start()\n",
      "  File \"C:\\Users\\Neeharika\\Anaconda3\\lib\\site-packages\\zmq\\eventloop\\ioloop.py\", line 177, in start\n",
      "    super(ZMQIOLoop, self).start()\n",
      "  File \"C:\\Users\\Neeharika\\Anaconda3\\lib\\site-packages\\tornado\\ioloop.py\", line 888, in start\n",
      "    handler_func(fd_obj, events)\n",
      "  File \"C:\\Users\\Neeharika\\Anaconda3\\lib\\site-packages\\tornado\\stack_context.py\", line 277, in null_wrapper\n",
      "    return fn(*args, **kwargs)\n",
      "  File \"C:\\Users\\Neeharika\\Anaconda3\\lib\\site-packages\\zmq\\eventloop\\zmqstream.py\", line 440, in _handle_events\n",
      "    self._handle_recv()\n",
      "  File \"C:\\Users\\Neeharika\\Anaconda3\\lib\\site-packages\\zmq\\eventloop\\zmqstream.py\", line 472, in _handle_recv\n",
      "    self._run_callback(callback, msg)\n",
      "  File \"C:\\Users\\Neeharika\\Anaconda3\\lib\\site-packages\\zmq\\eventloop\\zmqstream.py\", line 414, in _run_callback\n",
      "    callback(*args, **kwargs)\n",
      "  File \"C:\\Users\\Neeharika\\Anaconda3\\lib\\site-packages\\tornado\\stack_context.py\", line 277, in null_wrapper\n",
      "    return fn(*args, **kwargs)\n",
      "  File \"C:\\Users\\Neeharika\\Anaconda3\\lib\\site-packages\\ipykernel\\kernelbase.py\", line 283, in dispatcher\n",
      "    return self.dispatch_shell(stream, msg)\n",
      "  File \"C:\\Users\\Neeharika\\Anaconda3\\lib\\site-packages\\ipykernel\\kernelbase.py\", line 233, in dispatch_shell\n",
      "    handler(stream, idents, msg)\n",
      "  File \"C:\\Users\\Neeharika\\Anaconda3\\lib\\site-packages\\ipykernel\\kernelbase.py\", line 399, in execute_request\n",
      "    user_expressions, allow_stdin)\n",
      "  File \"C:\\Users\\Neeharika\\Anaconda3\\lib\\site-packages\\ipykernel\\ipkernel.py\", line 208, in do_execute\n",
      "    res = shell.run_cell(code, store_history=store_history, silent=silent)\n",
      "  File \"C:\\Users\\Neeharika\\Anaconda3\\lib\\site-packages\\ipykernel\\zmqshell.py\", line 537, in run_cell\n",
      "    return super(ZMQInteractiveShell, self).run_cell(*args, **kwargs)\n",
      "  File \"C:\\Users\\Neeharika\\Anaconda3\\lib\\site-packages\\IPython\\core\\interactiveshell.py\", line 2728, in run_cell\n",
      "    interactivity=interactivity, compiler=compiler, result=result)\n",
      "  File \"C:\\Users\\Neeharika\\Anaconda3\\lib\\site-packages\\IPython\\core\\interactiveshell.py\", line 2850, in run_ast_nodes\n",
      "    if self.run_code(code, result):\n",
      "  File \"C:\\Users\\Neeharika\\Anaconda3\\lib\\site-packages\\IPython\\core\\interactiveshell.py\", line 2910, in run_code\n",
      "    exec(code_obj, self.user_global_ns, self.user_ns)\n",
      "  File \"<ipython-input-1-a1178e244326>\", line 2, in <module>\n",
      "    import matplotlib.pyplot as plt\n",
      "  File \"C:\\Users\\Neeharika\\Anaconda3\\lib\\site-packages\\matplotlib\\pyplot.py\", line 72, in <module>\n",
      "    from matplotlib.backends import pylab_setup\n",
      "  File \"C:\\Users\\Neeharika\\Anaconda3\\lib\\site-packages\\matplotlib\\backends\\__init__.py\", line 14, in <module>\n",
      "    line for line in traceback.format_stack()\n",
      "\n",
      "\n",
      "  matplotlib.use(BACKEND)\n"
     ]
    }
   ],
   "source": [
    "import pandas as pd\n",
    "import matplotlib.pyplot as plt\n",
    "import numpy as np\n",
    "import pandas_profiling\n",
    "%matplotlib inline\n",
    "import matplotlib.pyplot as plt\n",
    "from sklearn.model_selection import StratifiedShuffleSplit, cross_val_score, GridSearchCV\n",
    "from sklearn.preprocessing import StandardScaler, OneHotEncoder\n",
    "from sklearn.impute import SimpleImputer\n",
    "from sklearn.pipeline import Pipeline\n",
    "from sklearn.compose import ColumnTransformer\n",
    "from sklearn.linear_model import LinearRegression, SGDRegressor, Ridge, Lasso, ElasticNet\n",
    "from sklearn.metrics import mean_squared_error\n",
    "from sklearn.tree import DecisionTreeRegressor\n",
    "from sklearn.ensemble import RandomForestRegressor\n",
    "from sklearn.svm import LinearSVR, SVR\n",
    "from sklearn.ensemble import GradientBoostingRegressor"
   ]
  },
  {
   "cell_type": "code",
   "execution_count": 2,
   "metadata": {},
   "outputs": [],
   "source": [
    "local_path=\"D:/Hackathon/train_bFQbE3f/\" #setting local path"
   ]
  },
  {
   "cell_type": "code",
   "execution_count": 3,
   "metadata": {},
   "outputs": [
    {
     "data": {
      "text/html": [
       "<div>\n",
       "<style scoped>\n",
       "    .dataframe tbody tr th:only-of-type {\n",
       "        vertical-align: middle;\n",
       "    }\n",
       "\n",
       "    .dataframe tbody tr th {\n",
       "        vertical-align: top;\n",
       "    }\n",
       "\n",
       "    .dataframe thead th {\n",
       "        text-align: right;\n",
       "    }\n",
       "</style>\n",
       "<table border=\"1\" class=\"dataframe\">\n",
       "  <thead>\n",
       "    <tr style=\"text-align: right;\">\n",
       "      <th></th>\n",
       "      <th>id</th>\n",
       "      <th>account_type</th>\n",
       "      <th>gender</th>\n",
       "      <th>age</th>\n",
       "      <th>region_code</th>\n",
       "      <th>cc_cons_apr</th>\n",
       "      <th>dc_cons_apr</th>\n",
       "      <th>cc_cons_may</th>\n",
       "      <th>dc_cons_may</th>\n",
       "      <th>cc_cons_jun</th>\n",
       "      <th>...</th>\n",
       "      <th>debit_count_may</th>\n",
       "      <th>max_credit_amount_may</th>\n",
       "      <th>debit_amount_jun</th>\n",
       "      <th>credit_amount_jun</th>\n",
       "      <th>credit_count_jun</th>\n",
       "      <th>debit_count_jun</th>\n",
       "      <th>max_credit_amount_jun</th>\n",
       "      <th>loan_enq</th>\n",
       "      <th>emi_active</th>\n",
       "      <th>cc_cons</th>\n",
       "    </tr>\n",
       "  </thead>\n",
       "  <tbody>\n",
       "    <tr>\n",
       "      <th>0</th>\n",
       "      <td>23334</td>\n",
       "      <td>saving</td>\n",
       "      <td>M</td>\n",
       "      <td>63</td>\n",
       "      <td>305</td>\n",
       "      <td>7695.00</td>\n",
       "      <td>NaN</td>\n",
       "      <td>479.00</td>\n",
       "      <td>NaN</td>\n",
       "      <td>622.00</td>\n",
       "      <td>...</td>\n",
       "      <td>2.0</td>\n",
       "      <td>45000.0</td>\n",
       "      <td>20215.85</td>\n",
       "      <td>1279.37</td>\n",
       "      <td>7.0</td>\n",
       "      <td>3.0</td>\n",
       "      <td>470.0</td>\n",
       "      <td>NaN</td>\n",
       "      <td>0.00</td>\n",
       "      <td>435</td>\n",
       "    </tr>\n",
       "    <tr>\n",
       "      <th>1</th>\n",
       "      <td>20329</td>\n",
       "      <td>current</td>\n",
       "      <td>M</td>\n",
       "      <td>33</td>\n",
       "      <td>326</td>\n",
       "      <td>52702.00</td>\n",
       "      <td>988.72</td>\n",
       "      <td>29873.00</td>\n",
       "      <td>NaN</td>\n",
       "      <td>1087.00</td>\n",
       "      <td>...</td>\n",
       "      <td>10.0</td>\n",
       "      <td>150000.0</td>\n",
       "      <td>122037.66</td>\n",
       "      <td>55390.00</td>\n",
       "      <td>8.0</td>\n",
       "      <td>19.0</td>\n",
       "      <td>27000.0</td>\n",
       "      <td>NaN</td>\n",
       "      <td>4963.33</td>\n",
       "      <td>1921</td>\n",
       "    </tr>\n",
       "    <tr>\n",
       "      <th>2</th>\n",
       "      <td>17679</td>\n",
       "      <td>current</td>\n",
       "      <td>M</td>\n",
       "      <td>44</td>\n",
       "      <td>264</td>\n",
       "      <td>10800.49</td>\n",
       "      <td>3215.52</td>\n",
       "      <td>21659.64</td>\n",
       "      <td>1607.0</td>\n",
       "      <td>1168.00</td>\n",
       "      <td>...</td>\n",
       "      <td>7.0</td>\n",
       "      <td>13800.0</td>\n",
       "      <td>46827.00</td>\n",
       "      <td>29297.91</td>\n",
       "      <td>6.0</td>\n",
       "      <td>19.0</td>\n",
       "      <td>20800.0</td>\n",
       "      <td>NaN</td>\n",
       "      <td>0.00</td>\n",
       "      <td>1970</td>\n",
       "    </tr>\n",
       "    <tr>\n",
       "      <th>3</th>\n",
       "      <td>16428</td>\n",
       "      <td>saving</td>\n",
       "      <td>M</td>\n",
       "      <td>44</td>\n",
       "      <td>233</td>\n",
       "      <td>20936.00</td>\n",
       "      <td>NaN</td>\n",
       "      <td>2094.00</td>\n",
       "      <td>NaN</td>\n",
       "      <td>11778.50</td>\n",
       "      <td>...</td>\n",
       "      <td>1.0</td>\n",
       "      <td>19300.0</td>\n",
       "      <td>5426.55</td>\n",
       "      <td>7544.00</td>\n",
       "      <td>3.0</td>\n",
       "      <td>1.0</td>\n",
       "      <td>5300.0</td>\n",
       "      <td>NaN</td>\n",
       "      <td>1238.18</td>\n",
       "      <td>21579</td>\n",
       "    </tr>\n",
       "    <tr>\n",
       "      <th>4</th>\n",
       "      <td>18721</td>\n",
       "      <td>saving</td>\n",
       "      <td>F</td>\n",
       "      <td>35</td>\n",
       "      <td>324</td>\n",
       "      <td>1183.83</td>\n",
       "      <td>NaN</td>\n",
       "      <td>3656.29</td>\n",
       "      <td>NaN</td>\n",
       "      <td>945.00</td>\n",
       "      <td>...</td>\n",
       "      <td>3.0</td>\n",
       "      <td>3000.0</td>\n",
       "      <td>26178.05</td>\n",
       "      <td>53483.00</td>\n",
       "      <td>4.0</td>\n",
       "      <td>4.0</td>\n",
       "      <td>45000.0</td>\n",
       "      <td>NaN</td>\n",
       "      <td>0.00</td>\n",
       "      <td>1814</td>\n",
       "    </tr>\n",
       "    <tr>\n",
       "      <th>5</th>\n",
       "      <td>4340</td>\n",
       "      <td>current</td>\n",
       "      <td>M</td>\n",
       "      <td>26</td>\n",
       "      <td>233</td>\n",
       "      <td>53819.88</td>\n",
       "      <td>1371.00</td>\n",
       "      <td>4712.92</td>\n",
       "      <td>2220.0</td>\n",
       "      <td>1048.00</td>\n",
       "      <td>...</td>\n",
       "      <td>22.0</td>\n",
       "      <td>20603.0</td>\n",
       "      <td>31189.26</td>\n",
       "      <td>33183.13</td>\n",
       "      <td>7.0</td>\n",
       "      <td>31.0</td>\n",
       "      <td>20890.0</td>\n",
       "      <td>NaN</td>\n",
       "      <td>0.00</td>\n",
       "      <td>626</td>\n",
       "    </tr>\n",
       "    <tr>\n",
       "      <th>6</th>\n",
       "      <td>28060</td>\n",
       "      <td>current</td>\n",
       "      <td>F</td>\n",
       "      <td>30</td>\n",
       "      <td>683</td>\n",
       "      <td>1495.00</td>\n",
       "      <td>4237.00</td>\n",
       "      <td>2212.00</td>\n",
       "      <td>5292.0</td>\n",
       "      <td>1964.00</td>\n",
       "      <td>...</td>\n",
       "      <td>24.0</td>\n",
       "      <td>24782.0</td>\n",
       "      <td>27984.33</td>\n",
       "      <td>81517.00</td>\n",
       "      <td>3.0</td>\n",
       "      <td>31.0</td>\n",
       "      <td>50000.0</td>\n",
       "      <td>NaN</td>\n",
       "      <td>0.00</td>\n",
       "      <td>2052</td>\n",
       "    </tr>\n",
       "    <tr>\n",
       "      <th>7</th>\n",
       "      <td>746</td>\n",
       "      <td>current</td>\n",
       "      <td>M</td>\n",
       "      <td>32</td>\n",
       "      <td>892</td>\n",
       "      <td>1847.00</td>\n",
       "      <td>5976.00</td>\n",
       "      <td>1347.80</td>\n",
       "      <td>4112.0</td>\n",
       "      <td>669.00</td>\n",
       "      <td>...</td>\n",
       "      <td>19.0</td>\n",
       "      <td>30281.0</td>\n",
       "      <td>39320.36</td>\n",
       "      <td>34332.00</td>\n",
       "      <td>3.0</td>\n",
       "      <td>23.0</td>\n",
       "      <td>31663.0</td>\n",
       "      <td>NaN</td>\n",
       "      <td>0.00</td>\n",
       "      <td>434</td>\n",
       "    </tr>\n",
       "    <tr>\n",
       "      <th>8</th>\n",
       "      <td>41628</td>\n",
       "      <td>current</td>\n",
       "      <td>M</td>\n",
       "      <td>37</td>\n",
       "      <td>233</td>\n",
       "      <td>9214.92</td>\n",
       "      <td>NaN</td>\n",
       "      <td>95625.88</td>\n",
       "      <td>16423.0</td>\n",
       "      <td>11419.76</td>\n",
       "      <td>...</td>\n",
       "      <td>28.0</td>\n",
       "      <td>51555.0</td>\n",
       "      <td>285663.35</td>\n",
       "      <td>254939.15</td>\n",
       "      <td>25.0</td>\n",
       "      <td>34.0</td>\n",
       "      <td>92800.0</td>\n",
       "      <td>NaN</td>\n",
       "      <td>0.00</td>\n",
       "      <td>10331</td>\n",
       "    </tr>\n",
       "    <tr>\n",
       "      <th>9</th>\n",
       "      <td>16836</td>\n",
       "      <td>saving</td>\n",
       "      <td>M</td>\n",
       "      <td>47</td>\n",
       "      <td>233</td>\n",
       "      <td>9191.31</td>\n",
       "      <td>NaN</td>\n",
       "      <td>8327.55</td>\n",
       "      <td>NaN</td>\n",
       "      <td>14642.00</td>\n",
       "      <td>...</td>\n",
       "      <td>NaN</td>\n",
       "      <td>NaN</td>\n",
       "      <td>NaN</td>\n",
       "      <td>503.00</td>\n",
       "      <td>1.0</td>\n",
       "      <td>0.0</td>\n",
       "      <td>275.0</td>\n",
       "      <td>NaN</td>\n",
       "      <td>0.00</td>\n",
       "      <td>2437</td>\n",
       "    </tr>\n",
       "  </tbody>\n",
       "</table>\n",
       "<p>10 rows × 44 columns</p>\n",
       "</div>"
      ],
      "text/plain": [
       "      id account_type gender  age  region_code  cc_cons_apr  dc_cons_apr  \\\n",
       "0  23334       saving      M   63          305      7695.00          NaN   \n",
       "1  20329      current      M   33          326     52702.00       988.72   \n",
       "2  17679      current      M   44          264     10800.49      3215.52   \n",
       "3  16428       saving      M   44          233     20936.00          NaN   \n",
       "4  18721       saving      F   35          324      1183.83          NaN   \n",
       "5   4340      current      M   26          233     53819.88      1371.00   \n",
       "6  28060      current      F   30          683      1495.00      4237.00   \n",
       "7    746      current      M   32          892      1847.00      5976.00   \n",
       "8  41628      current      M   37          233      9214.92          NaN   \n",
       "9  16836       saving      M   47          233      9191.31          NaN   \n",
       "\n",
       "   cc_cons_may  dc_cons_may  cc_cons_jun   ...     debit_count_may  \\\n",
       "0       479.00          NaN       622.00   ...                 2.0   \n",
       "1     29873.00          NaN      1087.00   ...                10.0   \n",
       "2     21659.64       1607.0      1168.00   ...                 7.0   \n",
       "3      2094.00          NaN     11778.50   ...                 1.0   \n",
       "4      3656.29          NaN       945.00   ...                 3.0   \n",
       "5      4712.92       2220.0      1048.00   ...                22.0   \n",
       "6      2212.00       5292.0      1964.00   ...                24.0   \n",
       "7      1347.80       4112.0       669.00   ...                19.0   \n",
       "8     95625.88      16423.0     11419.76   ...                28.0   \n",
       "9      8327.55          NaN     14642.00   ...                 NaN   \n",
       "\n",
       "   max_credit_amount_may  debit_amount_jun  credit_amount_jun  \\\n",
       "0                45000.0          20215.85            1279.37   \n",
       "1               150000.0         122037.66           55390.00   \n",
       "2                13800.0          46827.00           29297.91   \n",
       "3                19300.0           5426.55            7544.00   \n",
       "4                 3000.0          26178.05           53483.00   \n",
       "5                20603.0          31189.26           33183.13   \n",
       "6                24782.0          27984.33           81517.00   \n",
       "7                30281.0          39320.36           34332.00   \n",
       "8                51555.0         285663.35          254939.15   \n",
       "9                    NaN               NaN             503.00   \n",
       "\n",
       "   credit_count_jun  debit_count_jun  max_credit_amount_jun  loan_enq  \\\n",
       "0               7.0              3.0                  470.0       NaN   \n",
       "1               8.0             19.0                27000.0       NaN   \n",
       "2               6.0             19.0                20800.0       NaN   \n",
       "3               3.0              1.0                 5300.0       NaN   \n",
       "4               4.0              4.0                45000.0       NaN   \n",
       "5               7.0             31.0                20890.0       NaN   \n",
       "6               3.0             31.0                50000.0       NaN   \n",
       "7               3.0             23.0                31663.0       NaN   \n",
       "8              25.0             34.0                92800.0       NaN   \n",
       "9               1.0              0.0                  275.0       NaN   \n",
       "\n",
       "   emi_active  cc_cons  \n",
       "0        0.00      435  \n",
       "1     4963.33     1921  \n",
       "2        0.00     1970  \n",
       "3     1238.18    21579  \n",
       "4        0.00     1814  \n",
       "5        0.00      626  \n",
       "6        0.00     2052  \n",
       "7        0.00      434  \n",
       "8        0.00    10331  \n",
       "9        0.00     2437  \n",
       "\n",
       "[10 rows x 44 columns]"
      ]
     },
     "execution_count": 3,
     "metadata": {},
     "output_type": "execute_result"
    }
   ],
   "source": [
    "credit_data= pd.read_csv(local_path + 'train.csv')\n",
    "credit_data.head(10)"
   ]
  },
  {
   "cell_type": "code",
   "execution_count": 4,
   "metadata": {},
   "outputs": [],
   "source": [
    "credit_report= pandas_profiling.ProfileReport(credit_data)\n",
    "credit_report.to_file(\"credit_report.html\")"
   ]
  },
  {
   "cell_type": "code",
   "execution_count": 5,
   "metadata": {},
   "outputs": [
    {
     "name": "stdout",
     "output_type": "stream",
     "text": [
      "<class 'pandas.core.frame.DataFrame'>\n",
      "RangeIndex: 32820 entries, 0 to 32819\n",
      "Data columns (total 44 columns):\n",
      "id                       32820 non-null int64\n",
      "account_type             32820 non-null object\n",
      "gender                   32820 non-null object\n",
      "age                      32820 non-null int64\n",
      "region_code              32820 non-null int64\n",
      "cc_cons_apr              32820 non-null float64\n",
      "dc_cons_apr              13768 non-null float64\n",
      "cc_cons_may              32820 non-null float64\n",
      "dc_cons_may              15481 non-null float64\n",
      "cc_cons_jun              32820 non-null float64\n",
      "dc_cons_jun              11523 non-null float64\n",
      "cc_count_apr             30421 non-null float64\n",
      "cc_count_may             31667 non-null float64\n",
      "cc_count_jun             31230 non-null float64\n",
      "dc_count_apr             13768 non-null float64\n",
      "dc_count_may             15481 non-null float64\n",
      "dc_count_jun             17323 non-null float64\n",
      "card_lim                 32811 non-null float64\n",
      "personal_loan_active     2742 non-null float64\n",
      "vehicle_loan_active      846 non-null float64\n",
      "personal_loan_closed     2883 non-null float64\n",
      "vehicle_loan_closed      1625 non-null float64\n",
      "investment_1             1426 non-null float64\n",
      "investment_2             2338 non-null float64\n",
      "investment_3             1332 non-null float64\n",
      "investment_4             406 non-null float64\n",
      "debit_amount_apr         30930 non-null float64\n",
      "credit_amount_apr        29518 non-null float64\n",
      "debit_count_apr          31062 non-null float64\n",
      "credit_count_apr         31062 non-null float64\n",
      "max_credit_amount_apr    29518 non-null float64\n",
      "debit_amount_may         30519 non-null float64\n",
      "credit_amount_may        29415 non-null float64\n",
      "credit_count_may         30749 non-null float64\n",
      "debit_count_may          30749 non-null float64\n",
      "max_credit_amount_may    29415 non-null float64\n",
      "debit_amount_jun         30625 non-null float64\n",
      "credit_amount_jun        31277 non-null float64\n",
      "credit_count_jun         31292 non-null float64\n",
      "debit_count_jun          31292 non-null float64\n",
      "max_credit_amount_jun    31277 non-null float64\n",
      "loan_enq                 609 non-null object\n",
      "emi_active               32820 non-null float64\n",
      "cc_cons                  32820 non-null int64\n",
      "dtypes: float64(37), int64(4), object(3)\n",
      "memory usage: 11.0+ MB\n"
     ]
    }
   ],
   "source": [
    "credit_data.info()"
   ]
  },
  {
   "cell_type": "code",
   "execution_count": 6,
   "metadata": {},
   "outputs": [
    {
     "data": {
      "text/html": [
       "<div>\n",
       "<style scoped>\n",
       "    .dataframe tbody tr th:only-of-type {\n",
       "        vertical-align: middle;\n",
       "    }\n",
       "\n",
       "    .dataframe tbody tr th {\n",
       "        vertical-align: top;\n",
       "    }\n",
       "\n",
       "    .dataframe thead th {\n",
       "        text-align: right;\n",
       "    }\n",
       "</style>\n",
       "<table border=\"1\" class=\"dataframe\">\n",
       "  <thead>\n",
       "    <tr style=\"text-align: right;\">\n",
       "      <th></th>\n",
       "      <th>id</th>\n",
       "      <th>age</th>\n",
       "      <th>region_code</th>\n",
       "      <th>cc_cons_apr</th>\n",
       "      <th>dc_cons_apr</th>\n",
       "      <th>cc_cons_may</th>\n",
       "      <th>dc_cons_may</th>\n",
       "      <th>cc_cons_jun</th>\n",
       "      <th>dc_cons_jun</th>\n",
       "      <th>cc_count_apr</th>\n",
       "      <th>...</th>\n",
       "      <th>credit_count_may</th>\n",
       "      <th>debit_count_may</th>\n",
       "      <th>max_credit_amount_may</th>\n",
       "      <th>debit_amount_jun</th>\n",
       "      <th>credit_amount_jun</th>\n",
       "      <th>credit_count_jun</th>\n",
       "      <th>debit_count_jun</th>\n",
       "      <th>max_credit_amount_jun</th>\n",
       "      <th>emi_active</th>\n",
       "      <th>cc_cons</th>\n",
       "    </tr>\n",
       "  </thead>\n",
       "  <tbody>\n",
       "    <tr>\n",
       "      <th>count</th>\n",
       "      <td>32820.000000</td>\n",
       "      <td>32820.000000</td>\n",
       "      <td>32820.000000</td>\n",
       "      <td>32820.000000</td>\n",
       "      <td>13768.000000</td>\n",
       "      <td>3.282000e+04</td>\n",
       "      <td>15481.000000</td>\n",
       "      <td>32820.000000</td>\n",
       "      <td>11523.000000</td>\n",
       "      <td>30421.000000</td>\n",
       "      <td>...</td>\n",
       "      <td>30749.000000</td>\n",
       "      <td>30749.000000</td>\n",
       "      <td>2.941500e+04</td>\n",
       "      <td>3.062500e+04</td>\n",
       "      <td>3.127700e+04</td>\n",
       "      <td>31292.000000</td>\n",
       "      <td>31292.000000</td>\n",
       "      <td>3.127700e+04</td>\n",
       "      <td>3.282000e+04</td>\n",
       "      <td>32820.000000</td>\n",
       "    </tr>\n",
       "    <tr>\n",
       "      <th>mean</th>\n",
       "      <td>23450.929616</td>\n",
       "      <td>35.951676</td>\n",
       "      <td>554.854327</td>\n",
       "      <td>16661.907189</td>\n",
       "      <td>5727.615837</td>\n",
       "      <td>1.441190e+04</td>\n",
       "      <td>5635.506904</td>\n",
       "      <td>9031.179889</td>\n",
       "      <td>4666.713420</td>\n",
       "      <td>9.162191</td>\n",
       "      <td>...</td>\n",
       "      <td>4.087352</td>\n",
       "      <td>13.934795</td>\n",
       "      <td>4.969688e+04</td>\n",
       "      <td>7.759673e+04</td>\n",
       "      <td>7.583531e+04</td>\n",
       "      <td>5.767736</td>\n",
       "      <td>16.001438</td>\n",
       "      <td>4.474355e+04</td>\n",
       "      <td>9.567620e+03</td>\n",
       "      <td>6824.631840</td>\n",
       "    </tr>\n",
       "    <tr>\n",
       "      <th>std</th>\n",
       "      <td>13495.676061</td>\n",
       "      <td>8.529949</td>\n",
       "      <td>188.220317</td>\n",
       "      <td>25138.435416</td>\n",
       "      <td>11544.058014</td>\n",
       "      <td>2.363688e+04</td>\n",
       "      <td>14052.343253</td>\n",
       "      <td>15720.847307</td>\n",
       "      <td>10265.189742</td>\n",
       "      <td>10.790714</td>\n",
       "      <td>...</td>\n",
       "      <td>3.847766</td>\n",
       "      <td>11.455178</td>\n",
       "      <td>1.287256e+05</td>\n",
       "      <td>3.140103e+05</td>\n",
       "      <td>3.062791e+05</td>\n",
       "      <td>4.704716</td>\n",
       "      <td>13.370195</td>\n",
       "      <td>1.215379e+05</td>\n",
       "      <td>2.616736e+05</td>\n",
       "      <td>12459.140593</td>\n",
       "    </tr>\n",
       "    <tr>\n",
       "      <th>min</th>\n",
       "      <td>0.000000</td>\n",
       "      <td>22.000000</td>\n",
       "      <td>123.000000</td>\n",
       "      <td>233.970000</td>\n",
       "      <td>10.010000</td>\n",
       "      <td>1.030000e+02</td>\n",
       "      <td>20.000000</td>\n",
       "      <td>51.000000</td>\n",
       "      <td>23.000000</td>\n",
       "      <td>1.000000</td>\n",
       "      <td>...</td>\n",
       "      <td>0.000000</td>\n",
       "      <td>0.000000</td>\n",
       "      <td>1.500000e-01</td>\n",
       "      <td>5.230000e+00</td>\n",
       "      <td>1.188000e+01</td>\n",
       "      <td>0.000000</td>\n",
       "      <td>0.000000</td>\n",
       "      <td>6.000000e-02</td>\n",
       "      <td>0.000000e+00</td>\n",
       "      <td>0.000000</td>\n",
       "    </tr>\n",
       "    <tr>\n",
       "      <th>25%</th>\n",
       "      <td>11824.750000</td>\n",
       "      <td>31.000000</td>\n",
       "      <td>425.000000</td>\n",
       "      <td>3712.000000</td>\n",
       "      <td>849.000000</td>\n",
       "      <td>2.983298e+03</td>\n",
       "      <td>796.000000</td>\n",
       "      <td>1637.875000</td>\n",
       "      <td>743.000000</td>\n",
       "      <td>3.000000</td>\n",
       "      <td>...</td>\n",
       "      <td>2.000000</td>\n",
       "      <td>6.000000</td>\n",
       "      <td>1.817300e+04</td>\n",
       "      <td>2.509642e+04</td>\n",
       "      <td>2.306400e+04</td>\n",
       "      <td>3.000000</td>\n",
       "      <td>6.000000</td>\n",
       "      <td>1.600000e+04</td>\n",
       "      <td>0.000000e+00</td>\n",
       "      <td>1285.000000</td>\n",
       "    </tr>\n",
       "    <tr>\n",
       "      <th>50%</th>\n",
       "      <td>23478.500000</td>\n",
       "      <td>34.000000</td>\n",
       "      <td>575.000000</td>\n",
       "      <td>8912.790000</td>\n",
       "      <td>2282.160000</td>\n",
       "      <td>7.332298e+03</td>\n",
       "      <td>2129.000000</td>\n",
       "      <td>4147.487500</td>\n",
       "      <td>1832.000000</td>\n",
       "      <td>7.000000</td>\n",
       "      <td>...</td>\n",
       "      <td>3.000000</td>\n",
       "      <td>11.000000</td>\n",
       "      <td>3.000000e+04</td>\n",
       "      <td>4.593499e+04</td>\n",
       "      <td>4.295500e+04</td>\n",
       "      <td>5.000000</td>\n",
       "      <td>13.000000</td>\n",
       "      <td>2.687600e+04</td>\n",
       "      <td>1.510650e+02</td>\n",
       "      <td>3141.000000</td>\n",
       "    </tr>\n",
       "    <tr>\n",
       "      <th>75%</th>\n",
       "      <td>35096.250000</td>\n",
       "      <td>39.000000</td>\n",
       "      <td>683.000000</td>\n",
       "      <td>19932.060000</td>\n",
       "      <td>6074.600000</td>\n",
       "      <td>1.684785e+04</td>\n",
       "      <td>5640.000000</td>\n",
       "      <td>10126.250000</td>\n",
       "      <td>4607.500000</td>\n",
       "      <td>12.000000</td>\n",
       "      <td>...</td>\n",
       "      <td>5.000000</td>\n",
       "      <td>19.000000</td>\n",
       "      <td>5.000000e+04</td>\n",
       "      <td>8.413612e+04</td>\n",
       "      <td>8.072400e+04</td>\n",
       "      <td>7.000000</td>\n",
       "      <td>22.000000</td>\n",
       "      <td>4.701000e+04</td>\n",
       "      <td>4.176868e+03</td>\n",
       "      <td>7349.250000</td>\n",
       "    </tr>\n",
       "    <tr>\n",
       "      <th>max</th>\n",
       "      <td>46886.000000</td>\n",
       "      <td>224.000000</td>\n",
       "      <td>977.000000</td>\n",
       "      <td>804712.580000</td>\n",
       "      <td>366223.160000</td>\n",
       "      <td>1.117246e+06</td>\n",
       "      <td>911223.490000</td>\n",
       "      <td>382914.100000</td>\n",
       "      <td>301991.940000</td>\n",
       "      <td>1012.000000</td>\n",
       "      <td>...</td>\n",
       "      <td>71.000000</td>\n",
       "      <td>171.000000</td>\n",
       "      <td>1.285103e+07</td>\n",
       "      <td>3.986881e+07</td>\n",
       "      <td>3.933931e+07</td>\n",
       "      <td>117.000000</td>\n",
       "      <td>164.000000</td>\n",
       "      <td>1.293238e+07</td>\n",
       "      <td>4.468722e+07</td>\n",
       "      <td>408630.000000</td>\n",
       "    </tr>\n",
       "  </tbody>\n",
       "</table>\n",
       "<p>8 rows × 41 columns</p>\n",
       "</div>"
      ],
      "text/plain": [
       "                 id           age   region_code    cc_cons_apr    dc_cons_apr  \\\n",
       "count  32820.000000  32820.000000  32820.000000   32820.000000   13768.000000   \n",
       "mean   23450.929616     35.951676    554.854327   16661.907189    5727.615837   \n",
       "std    13495.676061      8.529949    188.220317   25138.435416   11544.058014   \n",
       "min        0.000000     22.000000    123.000000     233.970000      10.010000   \n",
       "25%    11824.750000     31.000000    425.000000    3712.000000     849.000000   \n",
       "50%    23478.500000     34.000000    575.000000    8912.790000    2282.160000   \n",
       "75%    35096.250000     39.000000    683.000000   19932.060000    6074.600000   \n",
       "max    46886.000000    224.000000    977.000000  804712.580000  366223.160000   \n",
       "\n",
       "        cc_cons_may    dc_cons_may    cc_cons_jun    dc_cons_jun  \\\n",
       "count  3.282000e+04   15481.000000   32820.000000   11523.000000   \n",
       "mean   1.441190e+04    5635.506904    9031.179889    4666.713420   \n",
       "std    2.363688e+04   14052.343253   15720.847307   10265.189742   \n",
       "min    1.030000e+02      20.000000      51.000000      23.000000   \n",
       "25%    2.983298e+03     796.000000    1637.875000     743.000000   \n",
       "50%    7.332298e+03    2129.000000    4147.487500    1832.000000   \n",
       "75%    1.684785e+04    5640.000000   10126.250000    4607.500000   \n",
       "max    1.117246e+06  911223.490000  382914.100000  301991.940000   \n",
       "\n",
       "       cc_count_apr      ...        credit_count_may  debit_count_may  \\\n",
       "count  30421.000000      ...            30749.000000     30749.000000   \n",
       "mean       9.162191      ...                4.087352        13.934795   \n",
       "std       10.790714      ...                3.847766        11.455178   \n",
       "min        1.000000      ...                0.000000         0.000000   \n",
       "25%        3.000000      ...                2.000000         6.000000   \n",
       "50%        7.000000      ...                3.000000        11.000000   \n",
       "75%       12.000000      ...                5.000000        19.000000   \n",
       "max     1012.000000      ...               71.000000       171.000000   \n",
       "\n",
       "       max_credit_amount_may  debit_amount_jun  credit_amount_jun  \\\n",
       "count           2.941500e+04      3.062500e+04       3.127700e+04   \n",
       "mean            4.969688e+04      7.759673e+04       7.583531e+04   \n",
       "std             1.287256e+05      3.140103e+05       3.062791e+05   \n",
       "min             1.500000e-01      5.230000e+00       1.188000e+01   \n",
       "25%             1.817300e+04      2.509642e+04       2.306400e+04   \n",
       "50%             3.000000e+04      4.593499e+04       4.295500e+04   \n",
       "75%             5.000000e+04      8.413612e+04       8.072400e+04   \n",
       "max             1.285103e+07      3.986881e+07       3.933931e+07   \n",
       "\n",
       "       credit_count_jun  debit_count_jun  max_credit_amount_jun    emi_active  \\\n",
       "count      31292.000000     31292.000000           3.127700e+04  3.282000e+04   \n",
       "mean           5.767736        16.001438           4.474355e+04  9.567620e+03   \n",
       "std            4.704716        13.370195           1.215379e+05  2.616736e+05   \n",
       "min            0.000000         0.000000           6.000000e-02  0.000000e+00   \n",
       "25%            3.000000         6.000000           1.600000e+04  0.000000e+00   \n",
       "50%            5.000000        13.000000           2.687600e+04  1.510650e+02   \n",
       "75%            7.000000        22.000000           4.701000e+04  4.176868e+03   \n",
       "max          117.000000       164.000000           1.293238e+07  4.468722e+07   \n",
       "\n",
       "             cc_cons  \n",
       "count   32820.000000  \n",
       "mean     6824.631840  \n",
       "std     12459.140593  \n",
       "min         0.000000  \n",
       "25%      1285.000000  \n",
       "50%      3141.000000  \n",
       "75%      7349.250000  \n",
       "max    408630.000000  \n",
       "\n",
       "[8 rows x 41 columns]"
      ]
     },
     "execution_count": 6,
     "metadata": {},
     "output_type": "execute_result"
    }
   ],
   "source": [
    "credit_data.describe()"
   ]
  },
  {
   "cell_type": "code",
   "execution_count": 7,
   "metadata": {},
   "outputs": [
    {
     "data": {
      "image/png": "[encoded data removed]",
      "text/plain": [
       "<matplotlib.figure.Figure at 0x1cdb7845b70>"
      ]
     },
     "metadata": {},
     "output_type": "display_data"
    }
   ],
   "source": [
    "credit_data.hist(bins=50, figsize=(20, 15))\n",
    "plt.show()"
   ]
  },
  {
   "cell_type": "code",
   "execution_count": 8,
   "metadata": {},
   "outputs": [
    {
     "data": {
      "text/html": [
       "<div>\n",
       "<style scoped>\n",
       "    .dataframe tbody tr th:only-of-type {\n",
       "        vertical-align: middle;\n",
       "    }\n",
       "\n",
       "    .dataframe tbody tr th {\n",
       "        vertical-align: top;\n",
       "    }\n",
       "\n",
       "    .dataframe thead th {\n",
       "        text-align: right;\n",
       "    }\n",
       "</style>\n",
       "<table border=\"1\" class=\"dataframe\">\n",
       "  <thead>\n",
       "    <tr style=\"text-align: right;\">\n",
       "      <th></th>\n",
       "      <th>id</th>\n",
       "      <th>account_type</th>\n",
       "      <th>gender</th>\n",
       "      <th>age</th>\n",
       "      <th>region_code</th>\n",
       "      <th>cc_cons_apr</th>\n",
       "      <th>dc_cons_apr</th>\n",
       "      <th>cc_cons_may</th>\n",
       "      <th>dc_cons_may</th>\n",
       "      <th>cc_cons_jun</th>\n",
       "      <th>...</th>\n",
       "      <th>max_credit_amount_may</th>\n",
       "      <th>debit_amount_jun</th>\n",
       "      <th>credit_amount_jun</th>\n",
       "      <th>credit_count_jun</th>\n",
       "      <th>debit_count_jun</th>\n",
       "      <th>max_credit_amount_jun</th>\n",
       "      <th>loan_enq</th>\n",
       "      <th>emi_active</th>\n",
       "      <th>cc_cons</th>\n",
       "      <th>age_cat</th>\n",
       "    </tr>\n",
       "  </thead>\n",
       "  <tbody>\n",
       "    <tr>\n",
       "      <th>0</th>\n",
       "      <td>23334</td>\n",
       "      <td>saving</td>\n",
       "      <td>M</td>\n",
       "      <td>63</td>\n",
       "      <td>305</td>\n",
       "      <td>7695.00</td>\n",
       "      <td>NaN</td>\n",
       "      <td>479.00</td>\n",
       "      <td>NaN</td>\n",
       "      <td>622.00</td>\n",
       "      <td>...</td>\n",
       "      <td>45000.0</td>\n",
       "      <td>20215.85</td>\n",
       "      <td>1279.37</td>\n",
       "      <td>7.0</td>\n",
       "      <td>3.0</td>\n",
       "      <td>470.0</td>\n",
       "      <td>NaN</td>\n",
       "      <td>0.00</td>\n",
       "      <td>435</td>\n",
       "      <td>5</td>\n",
       "    </tr>\n",
       "    <tr>\n",
       "      <th>1</th>\n",
       "      <td>20329</td>\n",
       "      <td>current</td>\n",
       "      <td>M</td>\n",
       "      <td>33</td>\n",
       "      <td>326</td>\n",
       "      <td>52702.00</td>\n",
       "      <td>988.72</td>\n",
       "      <td>29873.00</td>\n",
       "      <td>NaN</td>\n",
       "      <td>1087.00</td>\n",
       "      <td>...</td>\n",
       "      <td>150000.0</td>\n",
       "      <td>122037.66</td>\n",
       "      <td>55390.00</td>\n",
       "      <td>8.0</td>\n",
       "      <td>19.0</td>\n",
       "      <td>27000.0</td>\n",
       "      <td>NaN</td>\n",
       "      <td>4963.33</td>\n",
       "      <td>1921</td>\n",
       "      <td>2</td>\n",
       "    </tr>\n",
       "    <tr>\n",
       "      <th>2</th>\n",
       "      <td>17679</td>\n",
       "      <td>current</td>\n",
       "      <td>M</td>\n",
       "      <td>44</td>\n",
       "      <td>264</td>\n",
       "      <td>10800.49</td>\n",
       "      <td>3215.52</td>\n",
       "      <td>21659.64</td>\n",
       "      <td>1607.0</td>\n",
       "      <td>1168.00</td>\n",
       "      <td>...</td>\n",
       "      <td>13800.0</td>\n",
       "      <td>46827.00</td>\n",
       "      <td>29297.91</td>\n",
       "      <td>6.0</td>\n",
       "      <td>19.0</td>\n",
       "      <td>20800.0</td>\n",
       "      <td>NaN</td>\n",
       "      <td>0.00</td>\n",
       "      <td>1970</td>\n",
       "      <td>3</td>\n",
       "    </tr>\n",
       "    <tr>\n",
       "      <th>3</th>\n",
       "      <td>16428</td>\n",
       "      <td>saving</td>\n",
       "      <td>M</td>\n",
       "      <td>44</td>\n",
       "      <td>233</td>\n",
       "      <td>20936.00</td>\n",
       "      <td>NaN</td>\n",
       "      <td>2094.00</td>\n",
       "      <td>NaN</td>\n",
       "      <td>11778.50</td>\n",
       "      <td>...</td>\n",
       "      <td>19300.0</td>\n",
       "      <td>5426.55</td>\n",
       "      <td>7544.00</td>\n",
       "      <td>3.0</td>\n",
       "      <td>1.0</td>\n",
       "      <td>5300.0</td>\n",
       "      <td>NaN</td>\n",
       "      <td>1238.18</td>\n",
       "      <td>21579</td>\n",
       "      <td>3</td>\n",
       "    </tr>\n",
       "    <tr>\n",
       "      <th>4</th>\n",
       "      <td>18721</td>\n",
       "      <td>saving</td>\n",
       "      <td>F</td>\n",
       "      <td>35</td>\n",
       "      <td>324</td>\n",
       "      <td>1183.83</td>\n",
       "      <td>NaN</td>\n",
       "      <td>3656.29</td>\n",
       "      <td>NaN</td>\n",
       "      <td>945.00</td>\n",
       "      <td>...</td>\n",
       "      <td>3000.0</td>\n",
       "      <td>26178.05</td>\n",
       "      <td>53483.00</td>\n",
       "      <td>4.0</td>\n",
       "      <td>4.0</td>\n",
       "      <td>45000.0</td>\n",
       "      <td>NaN</td>\n",
       "      <td>0.00</td>\n",
       "      <td>1814</td>\n",
       "      <td>2</td>\n",
       "    </tr>\n",
       "    <tr>\n",
       "      <th>5</th>\n",
       "      <td>4340</td>\n",
       "      <td>current</td>\n",
       "      <td>M</td>\n",
       "      <td>26</td>\n",
       "      <td>233</td>\n",
       "      <td>53819.88</td>\n",
       "      <td>1371.00</td>\n",
       "      <td>4712.92</td>\n",
       "      <td>2220.0</td>\n",
       "      <td>1048.00</td>\n",
       "      <td>...</td>\n",
       "      <td>20603.0</td>\n",
       "      <td>31189.26</td>\n",
       "      <td>33183.13</td>\n",
       "      <td>7.0</td>\n",
       "      <td>31.0</td>\n",
       "      <td>20890.0</td>\n",
       "      <td>NaN</td>\n",
       "      <td>0.00</td>\n",
       "      <td>626</td>\n",
       "      <td>2</td>\n",
       "    </tr>\n",
       "    <tr>\n",
       "      <th>6</th>\n",
       "      <td>28060</td>\n",
       "      <td>current</td>\n",
       "      <td>F</td>\n",
       "      <td>30</td>\n",
       "      <td>683</td>\n",
       "      <td>1495.00</td>\n",
       "      <td>4237.00</td>\n",
       "      <td>2212.00</td>\n",
       "      <td>5292.0</td>\n",
       "      <td>1964.00</td>\n",
       "      <td>...</td>\n",
       "      <td>24782.0</td>\n",
       "      <td>27984.33</td>\n",
       "      <td>81517.00</td>\n",
       "      <td>3.0</td>\n",
       "      <td>31.0</td>\n",
       "      <td>50000.0</td>\n",
       "      <td>NaN</td>\n",
       "      <td>0.00</td>\n",
       "      <td>2052</td>\n",
       "      <td>2</td>\n",
       "    </tr>\n",
       "    <tr>\n",
       "      <th>7</th>\n",
       "      <td>746</td>\n",
       "      <td>current</td>\n",
       "      <td>M</td>\n",
       "      <td>32</td>\n",
       "      <td>892</td>\n",
       "      <td>1847.00</td>\n",
       "      <td>5976.00</td>\n",
       "      <td>1347.80</td>\n",
       "      <td>4112.0</td>\n",
       "      <td>669.00</td>\n",
       "      <td>...</td>\n",
       "      <td>30281.0</td>\n",
       "      <td>39320.36</td>\n",
       "      <td>34332.00</td>\n",
       "      <td>3.0</td>\n",
       "      <td>23.0</td>\n",
       "      <td>31663.0</td>\n",
       "      <td>NaN</td>\n",
       "      <td>0.00</td>\n",
       "      <td>434</td>\n",
       "      <td>2</td>\n",
       "    </tr>\n",
       "    <tr>\n",
       "      <th>8</th>\n",
       "      <td>41628</td>\n",
       "      <td>current</td>\n",
       "      <td>M</td>\n",
       "      <td>37</td>\n",
       "      <td>233</td>\n",
       "      <td>9214.92</td>\n",
       "      <td>NaN</td>\n",
       "      <td>95625.88</td>\n",
       "      <td>16423.0</td>\n",
       "      <td>11419.76</td>\n",
       "      <td>...</td>\n",
       "      <td>51555.0</td>\n",
       "      <td>285663.35</td>\n",
       "      <td>254939.15</td>\n",
       "      <td>25.0</td>\n",
       "      <td>34.0</td>\n",
       "      <td>92800.0</td>\n",
       "      <td>NaN</td>\n",
       "      <td>0.00</td>\n",
       "      <td>10331</td>\n",
       "      <td>3</td>\n",
       "    </tr>\n",
       "    <tr>\n",
       "      <th>9</th>\n",
       "      <td>16836</td>\n",
       "      <td>saving</td>\n",
       "      <td>M</td>\n",
       "      <td>47</td>\n",
       "      <td>233</td>\n",
       "      <td>9191.31</td>\n",
       "      <td>NaN</td>\n",
       "      <td>8327.55</td>\n",
       "      <td>NaN</td>\n",
       "      <td>14642.00</td>\n",
       "      <td>...</td>\n",
       "      <td>NaN</td>\n",
       "      <td>NaN</td>\n",
       "      <td>503.00</td>\n",
       "      <td>1.0</td>\n",
       "      <td>0.0</td>\n",
       "      <td>275.0</td>\n",
       "      <td>NaN</td>\n",
       "      <td>0.00</td>\n",
       "      <td>2437</td>\n",
       "      <td>4</td>\n",
       "    </tr>\n",
       "  </tbody>\n",
       "</table>\n",
       "<p>10 rows × 45 columns</p>\n",
       "</div>"
      ],
      "text/plain": [
       "      id account_type gender  age  region_code  cc_cons_apr  dc_cons_apr  \\\n",
       "0  23334       saving      M   63          305      7695.00          NaN   \n",
       "1  20329      current      M   33          326     52702.00       988.72   \n",
       "2  17679      current      M   44          264     10800.49      3215.52   \n",
       "3  16428       saving      M   44          233     20936.00          NaN   \n",
       "4  18721       saving      F   35          324      1183.83          NaN   \n",
       "5   4340      current      M   26          233     53819.88      1371.00   \n",
       "6  28060      current      F   30          683      1495.00      4237.00   \n",
       "7    746      current      M   32          892      1847.00      5976.00   \n",
       "8  41628      current      M   37          233      9214.92          NaN   \n",
       "9  16836       saving      M   47          233      9191.31          NaN   \n",
       "\n",
       "   cc_cons_may  dc_cons_may  cc_cons_jun   ...     max_credit_amount_may  \\\n",
       "0       479.00          NaN       622.00   ...                   45000.0   \n",
       "1     29873.00          NaN      1087.00   ...                  150000.0   \n",
       "2     21659.64       1607.0      1168.00   ...                   13800.0   \n",
       "3      2094.00          NaN     11778.50   ...                   19300.0   \n",
       "4      3656.29          NaN       945.00   ...                    3000.0   \n",
       "5      4712.92       2220.0      1048.00   ...                   20603.0   \n",
       "6      2212.00       5292.0      1964.00   ...                   24782.0   \n",
       "7      1347.80       4112.0       669.00   ...                   30281.0   \n",
       "8     95625.88      16423.0     11419.76   ...                   51555.0   \n",
       "9      8327.55          NaN     14642.00   ...                       NaN   \n",
       "\n",
       "   debit_amount_jun  credit_amount_jun  credit_count_jun  debit_count_jun  \\\n",
       "0          20215.85            1279.37               7.0              3.0   \n",
       "1         122037.66           55390.00               8.0             19.0   \n",
       "2          46827.00           29297.91               6.0             19.0   \n",
       "3           5426.55            7544.00               3.0              1.0   \n",
       "4          26178.05           53483.00               4.0              4.0   \n",
       "5          31189.26           33183.13               7.0             31.0   \n",
       "6          27984.33           81517.00               3.0             31.0   \n",
       "7          39320.36           34332.00               3.0             23.0   \n",
       "8         285663.35          254939.15              25.0             34.0   \n",
       "9               NaN             503.00               1.0              0.0   \n",
       "\n",
       "   max_credit_amount_jun  loan_enq  emi_active  cc_cons  age_cat  \n",
       "0                  470.0       NaN        0.00      435        5  \n",
       "1                27000.0       NaN     4963.33     1921        2  \n",
       "2                20800.0       NaN        0.00     1970        3  \n",
       "3                 5300.0       NaN     1238.18    21579        3  \n",
       "4                45000.0       NaN        0.00     1814        2  \n",
       "5                20890.0       NaN        0.00      626        2  \n",
       "6                50000.0       NaN        0.00     2052        2  \n",
       "7                31663.0       NaN        0.00      434        2  \n",
       "8                92800.0       NaN        0.00    10331        3  \n",
       "9                  275.0       NaN        0.00     2437        4  \n",
       "\n",
       "[10 rows x 45 columns]"
      ]
     },
     "execution_count": 8,
     "metadata": {},
     "output_type": "execute_result"
    }
   ],
   "source": [
    "credit_data[\"age_cat\"] = pd.cut(credit_data[\"age\"], bins=[0, 25, 35, 45, 60, np.inf], labels=[1, 2, 3, 4, 5]) # creating age categories variable to do stratified sampling \n",
    "credit_data.head(10)"
   ]
  },
  {
   "cell_type": "code",
   "execution_count": 9,
   "metadata": {},
   "outputs": [
    {
     "data": {
      "text/plain": [
       "<matplotlib.axes._subplots.AxesSubplot at 0x1cdaf75ee48>"
      ]
     },
     "execution_count": 9,
     "metadata": {},
     "output_type": "execute_result"
    },
    {
     "data": {
      "image/png": "[encoded data removed]",
      "text/plain": [
       "<matplotlib.figure.Figure at 0x1cdb34c8828>"
      ]
     },
     "metadata": {},
     "output_type": "display_data"
    }
   ],
   "source": [
    "credit_data[\"age_cat\"].hist()"
   ]
  },
  {
   "cell_type": "code",
   "execution_count": 10,
   "metadata": {},
   "outputs": [],
   "source": [
    "split = StratifiedShuffleSplit(n_splits=1, test_size=0.2, random_state=42)\n",
    "for train_index, test_index in split.split(credit_data, credit_data[\"age_cat\"]):\n",
    "    strat_train_set = credit_data.loc[train_index]\n",
    "    strat_test_set = credit_data.loc[test_index]"
   ]
  },
  {
   "cell_type": "code",
   "execution_count": 11,
   "metadata": {},
   "outputs": [
    {
     "data": {
      "text/plain": [
       "2    0.538848\n",
       "3    0.329068\n",
       "4    0.092779\n",
       "1    0.026813\n",
       "5    0.012492\n",
       "Name: age_cat, dtype: float64"
      ]
     },
     "execution_count": 11,
     "metadata": {},
     "output_type": "execute_result"
    }
   ],
   "source": [
    "strat_test_set[\"age_cat\"].value_counts()/len(strat_test_set) # see the proportions of age catagories in samples"
   ]
  },
  {
   "cell_type": "code",
   "execution_count": 12,
   "metadata": {},
   "outputs": [],
   "source": [
    "for set_ in (strat_train_set, strat_test_set):  #dropping the age cat variable\n",
    "    set_.drop(\"age_cat\", axis=1, inplace=True)"
   ]
  },
  {
   "cell_type": "code",
   "execution_count": 13,
   "metadata": {},
   "outputs": [],
   "source": [
    "credit=strat_train_set.copy()"
   ]
  },
  {
   "cell_type": "code",
   "execution_count": 14,
   "metadata": {},
   "outputs": [],
   "source": [
    "corr_matrix= credit.corr()"
   ]
  },
  {
   "cell_type": "code",
   "execution_count": 15,
   "metadata": {},
   "outputs": [
    {
     "data": {
      "text/plain": [
       "cc_cons                  1.000000\n",
       "cc_cons_jun              0.385082\n",
       "cc_cons_may              0.337200\n",
       "cc_cons_apr              0.324950\n",
       "card_lim                 0.264832\n",
       "cc_count_jun             0.176278\n",
       "investment_3             0.167397\n",
       "cc_count_may             0.166939\n",
       "credit_amount_may        0.160811\n",
       "debit_amount_may         0.157803\n",
       "credit_amount_apr        0.157596\n",
       "debit_amount_apr         0.156799\n",
       "max_credit_amount_may    0.148764\n",
       "max_credit_amount_jun    0.140621\n",
       "max_credit_amount_apr    0.128828\n",
       "cc_count_apr             0.124594\n",
       "credit_amount_jun        0.114037\n",
       "debit_amount_jun         0.109588\n",
       "dc_cons_may              0.107223\n",
       "investment_2             0.098143\n",
       "age                      0.089842\n",
       "dc_cons_apr              0.088716\n",
       "dc_cons_jun              0.083897\n",
       "emi_active               0.074076\n",
       "credit_count_apr         0.040856\n",
       "credit_count_may         0.040716\n",
       "investment_4             0.036903\n",
       "dc_count_apr             0.029798\n",
       "dc_count_jun             0.021586\n",
       "dc_count_may             0.019157\n",
       "credit_count_jun         0.013586\n",
       "region_code              0.013134\n",
       "debit_count_may          0.006029\n",
       "id                      -0.000397\n",
       "investment_1            -0.006810\n",
       "debit_count_jun         -0.007594\n",
       "debit_count_apr         -0.011439\n",
       "personal_loan_active          NaN\n",
       "vehicle_loan_active           NaN\n",
       "personal_loan_closed          NaN\n",
       "vehicle_loan_closed           NaN\n",
       "Name: cc_cons, dtype: float64"
      ]
     },
     "execution_count": 15,
     "metadata": {},
     "output_type": "execute_result"
    }
   ],
   "source": [
    "corr_matrix['cc_cons'].sort_values(ascending=False)"
   ]
  },
  {
   "cell_type": "code",
   "execution_count": 16,
   "metadata": {},
   "outputs": [],
   "source": [
    "credit[\"cc_count_3\"]= credit[\"cc_count_may\"]+credit[\"cc_count_apr\"]+credit[\"cc_count_jun\"]\n",
    "credit[\"total_investment\"]= credit[\"investment_1\"]+credit[\"investment_2\"]+credit[\"investment_3\"]+credit[\"investment_4\"]\n",
    "credit[\"dd_count_3\"]= credit[\"dc_count_may\"]+credit[\"dc_count_apr\"]+credit[\"dc_count_jun\"]  # trying new combinations of features to get more correlation with target variable"
   ]
  },
  {
   "cell_type": "code",
   "execution_count": 17,
   "metadata": {},
   "outputs": [
    {
     "data": {
      "text/plain": [
       "cc_cons                  1.000000\n",
       "cc_cons_jun              0.385082\n",
       "cc_cons_may              0.337200\n",
       "cc_cons_apr              0.324950\n",
       "card_lim                 0.264832\n",
       "cc_count_jun             0.176278\n",
       "investment_3             0.167397\n",
       "cc_count_may             0.166939\n",
       "credit_amount_may        0.160811\n",
       "debit_amount_may         0.157803\n",
       "credit_amount_apr        0.157596\n",
       "debit_amount_apr         0.156799\n",
       "max_credit_amount_may    0.148764\n",
       "max_credit_amount_jun    0.140621\n",
       "max_credit_amount_apr    0.128828\n",
       "cc_count_apr             0.124594\n",
       "credit_amount_jun        0.114037\n",
       "debit_amount_jun         0.109588\n",
       "dc_cons_may              0.107223\n",
       "investment_2             0.098143\n",
       "age                      0.089842\n",
       "dc_cons_apr              0.088716\n",
       "dc_cons_jun              0.083897\n",
       "emi_active               0.074076\n",
       "credit_count_apr         0.040856\n",
       "credit_count_may         0.040716\n",
       "investment_4             0.036903\n",
       "dc_count_apr             0.029798\n",
       "dc_count_jun             0.021586\n",
       "dc_count_may             0.019157\n",
       "credit_count_jun         0.013586\n",
       "region_code              0.013134\n",
       "debit_count_may          0.006029\n",
       "id                      -0.000397\n",
       "investment_1            -0.006810\n",
       "debit_count_jun         -0.007594\n",
       "debit_count_apr         -0.011439\n",
       "personal_loan_active          NaN\n",
       "vehicle_loan_active           NaN\n",
       "personal_loan_closed          NaN\n",
       "vehicle_loan_closed           NaN\n",
       "Name: cc_cons, dtype: float64"
      ]
     },
     "execution_count": 17,
     "metadata": {},
     "output_type": "execute_result"
    }
   ],
   "source": [
    "corr_matrix['cc_cons'].sort_values(ascending=False)"
   ]
  },
  {
   "cell_type": "code",
   "execution_count": 19,
   "metadata": {},
   "outputs": [],
   "source": [
    "credit = strat_train_set.drop(\"cc_cons\", axis=1)\n",
    "credit_label = strat_train_set[\"cc_cons\"].copy() "
   ]
  },
  {
   "cell_type": "code",
   "execution_count": 20,
   "metadata": {},
   "outputs": [],
   "source": [
    "credit[\"personal_loan_active\"].fillna(0, inplace= True)#filling NAN values \n",
    "credit[\"personal_loan_closed\"].fillna(0, inplace= True)\n",
    "credit[\"vehicle_loan_closed\"].fillna(0, inplace= True)\n",
    "credit[\"vehicle_loan_active\"].fillna(0, inplace= True)\n",
    "credit[\"loan_enq\"].fillna('N', inplace= True)"
   ]
  },
  {
   "cell_type": "code",
   "execution_count": 21,
   "metadata": {},
   "outputs": [],
   "source": [
    "credit[\"dd_count_3\"]= credit[\"dc_count_may\"]+credit[\"dc_count_apr\"]+credit[\"dc_count_jun\"]\n",
    "credit[\"cc_count_3\"]= credit[\"cc_count_may\"]+credit[\"cc_count_apr\"]+credit[\"cc_count_jun\"]"
   ]
  },
  {
   "cell_type": "code",
   "execution_count": 22,
   "metadata": {},
   "outputs": [],
   "source": [
    "credit.drop(\"id\", axis=1, inplace= True)"
   ]
  },
  {
   "cell_type": "code",
   "execution_count": 23,
   "metadata": {},
   "outputs": [],
   "source": [
    "credit_num= credit.drop([\"loan_enq\", \"account_type\", \"gender\"], axis = 1)\n",
    "credit_cat= credit[[\"loan_enq\", \"account_type\", \"gender\"]]"
   ]
  },
  {
   "cell_type": "code",
   "execution_count": 24,
   "metadata": {},
   "outputs": [],
   "source": [
    "num_pipeline = Pipeline([\n",
    "        ('imputer', SimpleImputer(strategy=\"median\")),\n",
    "        ('std_scaler', StandardScaler()),\n",
    "    ])"
   ]
  },
  {
   "cell_type": "code",
   "execution_count": 25,
   "metadata": {},
   "outputs": [],
   "source": [
    "num_attribs = list(credit_num)\n",
    "cat_attribs = list(credit_cat)\n",
    "\n",
    "full_pipeline = ColumnTransformer([\n",
    "        (\"num\", num_pipeline, num_attribs),\n",
    "        (\"cat\", OneHotEncoder(), cat_attribs),\n",
    "    ])\n",
    "\n",
    "credit_prep = full_pipeline.fit_transform(credit)"
   ]
  },
  {
   "cell_type": "code",
   "execution_count": 26,
   "metadata": {},
   "outputs": [
    {
     "data": {
      "text/plain": [
       "LinearRegression(copy_X=True, fit_intercept=True, n_jobs=None, normalize=False)"
      ]
     },
     "execution_count": 26,
     "metadata": {},
     "output_type": "execute_result"
    }
   ],
   "source": [
    "lin_reg = LinearRegression()\n",
    "lin_reg.fit(credit_prep, credit_label)"
   ]
  },
  {
   "cell_type": "code",
   "execution_count": 27,
   "metadata": {},
   "outputs": [
    {
     "data": {
      "text/plain": [
       "11134.192964137013"
      ]
     },
     "execution_count": 27,
     "metadata": {},
     "output_type": "execute_result"
    }
   ],
   "source": [
    "credit_prediction = lin_reg.predict(credit_prep)   #finding rmse from linear regression\n",
    "lin_mse= mean_squared_error(credit_label, credit_prediction)\n",
    "lin_rmse= np.sqrt(lin_mse)\n",
    "lin_rmse"
   ]
  },
  {
   "cell_type": "code",
   "execution_count": 28,
   "metadata": {},
   "outputs": [],
   "source": [
    "def display_scores(scores):\n",
    "    print(\"Scores:\", scores)\n",
    "    print(\"Mean:\", scores.mean())\n",
    "    print(\"Standard deviation:\", scores.std()) #to check cross val score results"
   ]
  },
  {
   "cell_type": "code",
   "execution_count": 29,
   "metadata": {},
   "outputs": [
    {
     "name": "stdout",
     "output_type": "stream",
     "text": [
      "Scores: [ 8987.08017666 11267.79869668 12407.62584044 11576.47972917\n",
      " 10961.77855982 11209.42555249 11093.42972214 10850.58957257\n",
      " 11456.5880359  12228.90430206]\n",
      "Mean: 11203.970018792907\n",
      "Standard deviation: 884.0992593472648\n"
     ]
    }
   ],
   "source": [
    "lin_scores = cross_val_score(lin_reg, credit_prep, credit_label,\n",
    "                         scoring=\"neg_mean_squared_error\", cv=10)\n",
    "lin_rmse_scores = np.sqrt(-lin_scores)\n",
    "display_scores(lin_rmse_scores)"
   ]
  },
  {
   "cell_type": "code",
   "execution_count": 30,
   "metadata": {},
   "outputs": [
    {
     "data": {
      "text/plain": [
       "DecisionTreeRegressor(criterion='mse', max_depth=None, max_features=None,\n",
       "                      max_leaf_nodes=None, min_impurity_decrease=0.0,\n",
       "                      min_impurity_split=None, min_samples_leaf=1,\n",
       "                      min_samples_split=2, min_weight_fraction_leaf=0.0,\n",
       "                      presort=False, random_state=None, splitter='best')"
      ]
     },
     "execution_count": 30,
     "metadata": {},
     "output_type": "execute_result"
    }
   ],
   "source": [
    "tree_reg = DecisionTreeRegressor()\n",
    "tree_reg.fit(credit_prep, credit_label)#trying with decision trees"
   ]
  },
  {
   "cell_type": "code",
   "execution_count": 31,
   "metadata": {},
   "outputs": [
    {
     "name": "stdout",
     "output_type": "stream",
     "text": [
      "Scores: [14420.11214534 17386.73852481 16655.24349888 16979.29491037\n",
      " 16362.35008903 16995.81769751 16870.02873199 16481.29085273\n",
      " 16614.40227045 17675.12827568]\n",
      "Mean: 16644.04069967934\n",
      "Standard deviation: 833.9456785917079\n"
     ]
    }
   ],
   "source": [
    "scores = cross_val_score(tree_reg, credit_prep, credit_label,\n",
    "                         scoring=\"neg_mean_squared_error\", cv=10)\n",
    "tree_rmse_scores = np.sqrt(-scores)\n",
    "display_scores(tree_rmse_scores)# linear is performing better"
   ]
  },
  {
   "cell_type": "code",
   "execution_count": 32,
   "metadata": {},
   "outputs": [
    {
     "name": "stderr",
     "output_type": "stream",
     "text": [
      "C:\\Users\\Neeharika\\Anaconda3\\lib\\site-packages\\sklearn\\ensemble\\forest.py:245: FutureWarning: The default value of n_estimators will change from 10 in version 0.20 to 100 in 0.22.\n",
      "  \"10 in version 0.20 to 100 in 0.22.\", FutureWarning)\n"
     ]
    },
    {
     "data": {
      "text/plain": [
       "RandomForestRegressor(bootstrap=True, criterion='mse', max_depth=None,\n",
       "                      max_features='auto', max_leaf_nodes=None,\n",
       "                      min_impurity_decrease=0.0, min_impurity_split=None,\n",
       "                      min_samples_leaf=1, min_samples_split=2,\n",
       "                      min_weight_fraction_leaf=0.0, n_estimators=10,\n",
       "                      n_jobs=None, oob_score=False, random_state=None,\n",
       "                      verbose=0, warm_start=False)"
      ]
     },
     "execution_count": 32,
     "metadata": {},
     "output_type": "execute_result"
    }
   ],
   "source": [
    "forest_reg = RandomForestRegressor()\n",
    "forest_reg.fit(credit_prep, credit_label)#lets try random forest"
   ]
  },
  {
   "cell_type": "code",
   "execution_count": 33,
   "metadata": {},
   "outputs": [
    {
     "name": "stdout",
     "output_type": "stream",
     "text": [
      "Scores: [ 9707.83844037 12247.17494736 13193.666158   12387.36437148\n",
      " 12170.91849649 12013.47335717 11629.91234338 10992.10299272\n",
      " 11834.25273962 12700.88734515]\n",
      "Mean: 11887.75911917289\n",
      "Standard deviation: 920.0511458269959\n"
     ]
    }
   ],
   "source": [
    "forest_scores = cross_val_score(forest_reg, credit_prep, credit_label,\n",
    "                         scoring=\"neg_mean_squared_error\", cv=10)\n",
    "forest_rmse_scores = np.sqrt(-forest_scores)\n",
    "display_scores(forest_rmse_scores)"
   ]
  },
  {
   "cell_type": "code",
   "execution_count": 34,
   "metadata": {},
   "outputs": [
    {
     "data": {
      "text/plain": [
       "LinearSVR(C=1.0, dual=True, epsilon=1.5, fit_intercept=True,\n",
       "          intercept_scaling=1.0, loss='epsilon_insensitive', max_iter=1000,\n",
       "          random_state=None, tol=0.0001, verbose=0)"
      ]
     },
     "execution_count": 34,
     "metadata": {},
     "output_type": "execute_result"
    }
   ],
   "source": [
    "svm_reg=LinearSVR(epsilon=1.5)\n",
    "svm_reg.fit(credit_prep, credit_label)"
   ]
  },
  {
   "cell_type": "code",
   "execution_count": 35,
   "metadata": {},
   "outputs": [
    {
     "name": "stdout",
     "output_type": "stream",
     "text": [
      "Scores: [ 9399.50932894 12049.85183963 13394.72966253 12714.98819182\n",
      " 11880.32128605 11567.17626516 12132.36037273 12215.47358512\n",
      " 12688.47770904 13515.57443957]\n",
      "Mean: 12155.846268059593\n",
      "Standard deviation: 1096.1391445138572\n"
     ]
    }
   ],
   "source": [
    "linsvm_scores = cross_val_score(svm_reg, credit_prep, credit_label,\n",
    "                         scoring=\"neg_mean_squared_error\", cv=10)\n",
    "linsvm_rmse_scores = np.sqrt(-linsvm_scores)\n",
    "display_scores(linsvm_rmse_scores)"
   ]
  },
  {
   "cell_type": "code",
   "execution_count": 36,
   "metadata": {},
   "outputs": [
    {
     "data": {
      "text/plain": [
       "Ridge(alpha=1, copy_X=True, fit_intercept=True, max_iter=None, normalize=False,\n",
       "      random_state=None, solver='cholesky', tol=0.001)"
      ]
     },
     "execution_count": 36,
     "metadata": {},
     "output_type": "execute_result"
    }
   ],
   "source": [
    "#linear regression is performing better, lets try some more variations\n",
    "ridge_reg= Ridge(alpha=1, solver=\"cholesky\")\n",
    "ridge_reg.fit(credit_prep, credit_label)"
   ]
  },
  {
   "cell_type": "code",
   "execution_count": 37,
   "metadata": {},
   "outputs": [
    {
     "name": "stdout",
     "output_type": "stream",
     "text": [
      "Scores: [ 8986.85299472 11267.81563253 12407.58962958 11576.34271952\n",
      " 10961.71812243 11209.21923297 11093.31592718 10850.6751058\n",
      " 11456.57518214 12228.92901691]\n",
      "Mean: 11203.903356376046\n",
      "Standard deviation: 884.1476792681487\n"
     ]
    }
   ],
   "source": [
    "ridge_scores = cross_val_score(ridge_reg, credit_prep, credit_label,\n",
    "                         scoring=\"neg_mean_squared_error\", cv=10)\n",
    "ridge_rmse_scores = np.sqrt(-ridge_scores)\n",
    "display_scores(ridge_rmse_scores)"
   ]
  },
  {
   "cell_type": "code",
   "execution_count": 38,
   "metadata": {},
   "outputs": [
    {
     "data": {
      "text/plain": [
       "Lasso(alpha=0.1, copy_X=True, fit_intercept=True, max_iter=1000,\n",
       "      normalize=False, positive=False, precompute=False, random_state=None,\n",
       "      selection='cyclic', tol=0.0001, warm_start=False)"
      ]
     },
     "execution_count": 38,
     "metadata": {},
     "output_type": "execute_result"
    }
   ],
   "source": [
    "lasso_reg= Lasso(alpha=0.1)\n",
    "lasso_reg.fit(credit_prep, credit_label)"
   ]
  },
  {
   "cell_type": "code",
   "execution_count": 39,
   "metadata": {},
   "outputs": [
    {
     "name": "stdout",
     "output_type": "stream",
     "text": [
      "Scores: [ 8986.78719647 11267.80583938 12407.55566867 11576.08237154\n",
      " 10961.75275108 11209.10486684 11093.29369274 10850.6387501\n",
      " 11456.58798721 12229.47873531]\n",
      "Mean: 11203.908785934473\n",
      "Standard deviation: 884.2133471848936\n"
     ]
    }
   ],
   "source": [
    "lasso_scores = cross_val_score(lasso_reg, credit_prep, credit_label,\n",
    "                         scoring=\"neg_mean_squared_error\", cv=10)\n",
    "lasso_rmse_scores = np.sqrt(-lasso_scores)\n",
    "display_scores(lasso_rmse_scores)"
   ]
  },
  {
   "cell_type": "code",
   "execution_count": 40,
   "metadata": {},
   "outputs": [
    {
     "data": {
      "text/plain": [
       "ElasticNet(alpha=0.1, copy_X=True, fit_intercept=True, l1_ratio=0.5,\n",
       "           max_iter=1000, normalize=False, positive=False, precompute=False,\n",
       "           random_state=None, selection='cyclic', tol=0.0001, warm_start=False)"
      ]
     },
     "execution_count": 40,
     "metadata": {},
     "output_type": "execute_result"
    }
   ],
   "source": [
    "elastic_reg= ElasticNet(alpha=0.1, l1_ratio=0.5)\n",
    "elastic_reg.fit(credit_prep, credit_label)"
   ]
  },
  {
   "cell_type": "code",
   "execution_count": 41,
   "metadata": {},
   "outputs": [
    {
     "name": "stdout",
     "output_type": "stream",
     "text": [
      "Scores: [ 8955.26125552 11264.37349873 12407.0796511  11540.63597705\n",
      " 10976.92761703 11150.48191141 11086.89439868 10846.8013541\n",
      " 11475.43668755 12247.1942349 ]\n",
      "Mean: 11195.10865860571\n",
      "Standard deviation: 893.2002856672261\n"
     ]
    }
   ],
   "source": [
    "elastic_scores = cross_val_score(elastic_reg, credit_prep, credit_label,\n",
    "                         scoring=\"neg_mean_squared_error\", cv=10)\n",
    "elastic_rmse_scores = np.sqrt(-elastic_scores)\n",
    "display_scores(elastic_rmse_scores)"
   ]
  },
  {
   "cell_type": "code",
   "execution_count": 42,
   "metadata": {},
   "outputs": [],
   "source": [
    "param_grid_ridge=[\n",
    "    {'alpha': [1, 10, 100], 'solver': ['auto', 'svd', 'cholesky', 'lsqr', 'sparse_cg', 'sag', 'saga']}\n",
    "]"
   ]
  },
  {
   "cell_type": "code",
   "execution_count": 43,
   "metadata": {},
   "outputs": [],
   "source": [
    "grid_search_ridge = GridSearchCV(ridge_reg, param_grid_ridge, cv=5,\n",
    "                           scoring='neg_mean_squared_error',\n",
    "                           return_train_score=True)"
   ]
  },
  {
   "cell_type": "code",
   "execution_count": 44,
   "metadata": {},
   "outputs": [
    {
     "data": {
      "text/plain": [
       "GridSearchCV(cv=5, error_score='raise-deprecating',\n",
       "             estimator=Ridge(alpha=1, copy_X=True, fit_intercept=True,\n",
       "                             max_iter=None, normalize=False, random_state=None,\n",
       "                             solver='cholesky', tol=0.001),\n",
       "             iid='warn', n_jobs=None,\n",
       "             param_grid=[{'alpha': [1, 10, 100],\n",
       "                          'solver': ['auto', 'svd', 'cholesky', 'lsqr',\n",
       "                                     'sparse_cg', 'sag', 'saga']}],\n",
       "             pre_dispatch='2*n_jobs', refit=True, return_train_score=True,\n",
       "             scoring='neg_mean_squared_error', verbose=0)"
      ]
     },
     "execution_count": 44,
     "metadata": {},
     "output_type": "execute_result"
    }
   ],
   "source": [
    "grid_search_ridge.fit(credit_prep, credit_label)"
   ]
  },
  {
   "cell_type": "code",
   "execution_count": 46,
   "metadata": {},
   "outputs": [
    {
     "data": {
      "text/plain": [
       "{'alpha': 100, 'solver': 'saga'}"
      ]
     },
     "execution_count": 46,
     "metadata": {},
     "output_type": "execute_result"
    }
   ],
   "source": [
    "grid_search_ridge.best_params_"
   ]
  },
  {
   "cell_type": "code",
   "execution_count": 47,
   "metadata": {},
   "outputs": [],
   "source": [
    "param_grid=[\n",
    "    {'alpha':[0, 0.1, 1]}\n",
    "]"
   ]
  },
  {
   "cell_type": "code",
   "execution_count": 48,
   "metadata": {},
   "outputs": [],
   "source": [
    "grid_search_lasso = GridSearchCV(lasso_reg, param_grid, cv=5,\n",
    "                           scoring='neg_mean_squared_error',\n",
    "                           return_train_score=True)"
   ]
  },
  {
   "cell_type": "code",
   "execution_count": 49,
   "metadata": {},
   "outputs": [
    {
     "name": "stderr",
     "output_type": "stream",
     "text": [
      "C:\\Users\\Neeharika\\Anaconda3\\lib\\site-packages\\sklearn\\model_selection\\_validation.py:514: UserWarning: With alpha=0, this algorithm does not converge well. You are advised to use the LinearRegression estimator\n",
      "  estimator.fit(X_train, y_train, **fit_params)\n",
      "C:\\Users\\Neeharika\\Anaconda3\\lib\\site-packages\\sklearn\\linear_model\\coordinate_descent.py:475: UserWarning: Coordinate descent with no regularization may lead to unexpected results and is discouraged.\n",
      "  positive)\n",
      "C:\\Users\\Neeharika\\Anaconda3\\lib\\site-packages\\sklearn\\linear_model\\coordinate_descent.py:475: ConvergenceWarning: Objective did not converge. You might want to increase the number of iterations. Duality gap: 1355736081881.6948, tolerance: 360195241.00911355\n",
      "  positive)\n",
      "C:\\Users\\Neeharika\\Anaconda3\\lib\\site-packages\\sklearn\\model_selection\\_validation.py:514: UserWarning: With alpha=0, this algorithm does not converge well. You are advised to use the LinearRegression estimator\n",
      "  estimator.fit(X_train, y_train, **fit_params)\n",
      "C:\\Users\\Neeharika\\Anaconda3\\lib\\site-packages\\sklearn\\linear_model\\coordinate_descent.py:475: UserWarning: Coordinate descent with no regularization may lead to unexpected results and is discouraged.\n",
      "  positive)\n",
      "C:\\Users\\Neeharika\\Anaconda3\\lib\\site-packages\\sklearn\\linear_model\\coordinate_descent.py:475: ConvergenceWarning: Objective did not converge. You might want to increase the number of iterations. Duality gap: 1251953107031.3809, tolerance: 329429753.8993631\n",
      "  positive)\n",
      "C:\\Users\\Neeharika\\Anaconda3\\lib\\site-packages\\sklearn\\model_selection\\_validation.py:514: UserWarning: With alpha=0, this algorithm does not converge well. You are advised to use the LinearRegression estimator\n",
      "  estimator.fit(X_train, y_train, **fit_params)\n",
      "C:\\Users\\Neeharika\\Anaconda3\\lib\\site-packages\\sklearn\\linear_model\\coordinate_descent.py:475: UserWarning: Coordinate descent with no regularization may lead to unexpected results and is discouraged.\n",
      "  positive)\n",
      "C:\\Users\\Neeharika\\Anaconda3\\lib\\site-packages\\sklearn\\linear_model\\coordinate_descent.py:475: ConvergenceWarning: Objective did not converge. You might want to increase the number of iterations. Duality gap: 1307251555497.1206, tolerance: 347638644.5245861\n",
      "  positive)\n",
      "C:\\Users\\Neeharika\\Anaconda3\\lib\\site-packages\\sklearn\\model_selection\\_validation.py:514: UserWarning: With alpha=0, this algorithm does not converge well. You are advised to use the LinearRegression estimator\n",
      "  estimator.fit(X_train, y_train, **fit_params)\n",
      "C:\\Users\\Neeharika\\Anaconda3\\lib\\site-packages\\sklearn\\linear_model\\coordinate_descent.py:475: UserWarning: Coordinate descent with no regularization may lead to unexpected results and is discouraged.\n",
      "  positive)\n",
      "C:\\Users\\Neeharika\\Anaconda3\\lib\\site-packages\\sklearn\\linear_model\\coordinate_descent.py:475: ConvergenceWarning: Objective did not converge. You might want to increase the number of iterations. Duality gap: 1315943913600.1826, tolerance: 338361589.2042561\n",
      "  positive)\n",
      "C:\\Users\\Neeharika\\Anaconda3\\lib\\site-packages\\sklearn\\model_selection\\_validation.py:514: UserWarning: With alpha=0, this algorithm does not converge well. You are advised to use the LinearRegression estimator\n",
      "  estimator.fit(X_train, y_train, **fit_params)\n",
      "C:\\Users\\Neeharika\\Anaconda3\\lib\\site-packages\\sklearn\\linear_model\\coordinate_descent.py:475: UserWarning: Coordinate descent with no regularization may lead to unexpected results and is discouraged.\n",
      "  positive)\n",
      "C:\\Users\\Neeharika\\Anaconda3\\lib\\site-packages\\sklearn\\linear_model\\coordinate_descent.py:475: ConvergenceWarning: Objective did not converge. You might want to increase the number of iterations. Duality gap: 1266510834548.3567, tolerance: 325779061.67930543\n",
      "  positive)\n"
     ]
    },
    {
     "data": {
      "text/plain": [
       "GridSearchCV(cv=5, error_score='raise-deprecating',\n",
       "             estimator=Lasso(alpha=0.1, copy_X=True, fit_intercept=True,\n",
       "                             max_iter=1000, normalize=False, positive=False,\n",
       "                             precompute=False, random_state=None,\n",
       "                             selection='cyclic', tol=0.0001, warm_start=False),\n",
       "             iid='warn', n_jobs=None, param_grid=[{'alpha': [0, 0.1, 1]}],\n",
       "             pre_dispatch='2*n_jobs', refit=True, return_train_score=True,\n",
       "             scoring='neg_mean_squared_error', verbose=0)"
      ]
     },
     "execution_count": 49,
     "metadata": {},
     "output_type": "execute_result"
    }
   ],
   "source": [
    "grid_search_lasso.fit(credit_prep, credit_label)"
   ]
  },
  {
   "cell_type": "code",
   "execution_count": 50,
   "metadata": {},
   "outputs": [
    {
     "data": {
      "text/plain": [
       "{'alpha': 1}"
      ]
     },
     "execution_count": 50,
     "metadata": {},
     "output_type": "execute_result"
    }
   ],
   "source": [
    "grid_search_lasso.best_params_"
   ]
  },
  {
   "cell_type": "code",
   "execution_count": 51,
   "metadata": {},
   "outputs": [],
   "source": [
    "grid_search_elastic = GridSearchCV(elastic_reg, param_grid, cv=5,\n",
    "                           scoring='neg_mean_squared_error',\n",
    "                           return_train_score=True)"
   ]
  },
  {
   "cell_type": "code",
   "execution_count": 52,
   "metadata": {},
   "outputs": [
    {
     "name": "stderr",
     "output_type": "stream",
     "text": [
      "C:\\Users\\Neeharika\\Anaconda3\\lib\\site-packages\\sklearn\\model_selection\\_validation.py:514: UserWarning: With alpha=0, this algorithm does not converge well. You are advised to use the LinearRegression estimator\n",
      "  estimator.fit(X_train, y_train, **fit_params)\n",
      "C:\\Users\\Neeharika\\Anaconda3\\lib\\site-packages\\sklearn\\linear_model\\coordinate_descent.py:475: UserWarning: Coordinate descent with no regularization may lead to unexpected results and is discouraged.\n",
      "  positive)\n",
      "C:\\Users\\Neeharika\\Anaconda3\\lib\\site-packages\\sklearn\\linear_model\\coordinate_descent.py:475: ConvergenceWarning: Objective did not converge. You might want to increase the number of iterations. Duality gap: 1355736081881.6948, tolerance: 360195241.00911355\n",
      "  positive)\n",
      "C:\\Users\\Neeharika\\Anaconda3\\lib\\site-packages\\sklearn\\model_selection\\_validation.py:514: UserWarning: With alpha=0, this algorithm does not converge well. You are advised to use the LinearRegression estimator\n",
      "  estimator.fit(X_train, y_train, **fit_params)\n",
      "C:\\Users\\Neeharika\\Anaconda3\\lib\\site-packages\\sklearn\\linear_model\\coordinate_descent.py:475: UserWarning: Coordinate descent with no regularization may lead to unexpected results and is discouraged.\n",
      "  positive)\n",
      "C:\\Users\\Neeharika\\Anaconda3\\lib\\site-packages\\sklearn\\linear_model\\coordinate_descent.py:475: ConvergenceWarning: Objective did not converge. You might want to increase the number of iterations. Duality gap: 1251953107031.3809, tolerance: 329429753.8993631\n",
      "  positive)\n",
      "C:\\Users\\Neeharika\\Anaconda3\\lib\\site-packages\\sklearn\\model_selection\\_validation.py:514: UserWarning: With alpha=0, this algorithm does not converge well. You are advised to use the LinearRegression estimator\n",
      "  estimator.fit(X_train, y_train, **fit_params)\n",
      "C:\\Users\\Neeharika\\Anaconda3\\lib\\site-packages\\sklearn\\linear_model\\coordinate_descent.py:475: UserWarning: Coordinate descent with no regularization may lead to unexpected results and is discouraged.\n",
      "  positive)\n",
      "C:\\Users\\Neeharika\\Anaconda3\\lib\\site-packages\\sklearn\\linear_model\\coordinate_descent.py:475: ConvergenceWarning: Objective did not converge. You might want to increase the number of iterations. Duality gap: 1307251555497.1206, tolerance: 347638644.5245861\n",
      "  positive)\n",
      "C:\\Users\\Neeharika\\Anaconda3\\lib\\site-packages\\sklearn\\model_selection\\_validation.py:514: UserWarning: With alpha=0, this algorithm does not converge well. You are advised to use the LinearRegression estimator\n",
      "  estimator.fit(X_train, y_train, **fit_params)\n",
      "C:\\Users\\Neeharika\\Anaconda3\\lib\\site-packages\\sklearn\\linear_model\\coordinate_descent.py:475: UserWarning: Coordinate descent with no regularization may lead to unexpected results and is discouraged.\n",
      "  positive)\n",
      "C:\\Users\\Neeharika\\Anaconda3\\lib\\site-packages\\sklearn\\linear_model\\coordinate_descent.py:475: ConvergenceWarning: Objective did not converge. You might want to increase the number of iterations. Duality gap: 1315943913600.1826, tolerance: 338361589.2042561\n",
      "  positive)\n",
      "C:\\Users\\Neeharika\\Anaconda3\\lib\\site-packages\\sklearn\\model_selection\\_validation.py:514: UserWarning: With alpha=0, this algorithm does not converge well. You are advised to use the LinearRegression estimator\n",
      "  estimator.fit(X_train, y_train, **fit_params)\n",
      "C:\\Users\\Neeharika\\Anaconda3\\lib\\site-packages\\sklearn\\linear_model\\coordinate_descent.py:475: UserWarning: Coordinate descent with no regularization may lead to unexpected results and is discouraged.\n",
      "  positive)\n",
      "C:\\Users\\Neeharika\\Anaconda3\\lib\\site-packages\\sklearn\\linear_model\\coordinate_descent.py:475: ConvergenceWarning: Objective did not converge. You might want to increase the number of iterations. Duality gap: 1266510834548.3567, tolerance: 325779061.67930543\n",
      "  positive)\n"
     ]
    },
    {
     "data": {
      "text/plain": [
       "GridSearchCV(cv=5, error_score='raise-deprecating',\n",
       "             estimator=ElasticNet(alpha=0.1, copy_X=True, fit_intercept=True,\n",
       "                                  l1_ratio=0.5, max_iter=1000, normalize=False,\n",
       "                                  positive=False, precompute=False,\n",
       "                                  random_state=None, selection='cyclic',\n",
       "                                  tol=0.0001, warm_start=False),\n",
       "             iid='warn', n_jobs=None, param_grid=[{'alpha': [0, 0.1, 1]}],\n",
       "             pre_dispatch='2*n_jobs', refit=True, return_train_score=True,\n",
       "             scoring='neg_mean_squared_error', verbose=0)"
      ]
     },
     "execution_count": 52,
     "metadata": {},
     "output_type": "execute_result"
    }
   ],
   "source": [
    "grid_search_elastic.fit(credit_prep, credit_label)"
   ]
  },
  {
   "cell_type": "code",
   "execution_count": 53,
   "metadata": {},
   "outputs": [
    {
     "data": {
      "text/plain": [
       "{'alpha': 0.1}"
      ]
     },
     "execution_count": 53,
     "metadata": {},
     "output_type": "execute_result"
    }
   ],
   "source": [
    "grid_search_elastic.best_params_"
   ]
  },
  {
   "cell_type": "code",
   "execution_count": 54,
   "metadata": {},
   "outputs": [
    {
     "data": {
      "text/plain": [
       "Ridge(alpha=100, copy_X=True, fit_intercept=True, max_iter=None,\n",
       "      normalize=False, random_state=None, solver='saga', tol=0.001)"
      ]
     },
     "execution_count": 54,
     "metadata": {},
     "output_type": "execute_result"
    }
   ],
   "source": [
    "#now lets train the model with best parameters\n",
    "ridge_reg= Ridge(alpha=100, solver=\"saga\")\n",
    "ridge_reg.fit(credit_prep, credit_label)"
   ]
  },
  {
   "cell_type": "code",
   "execution_count": 55,
   "metadata": {},
   "outputs": [
    {
     "name": "stdout",
     "output_type": "stream",
     "text": [
      "Scores: [ 8979.90055966 11278.52188022 12409.47562658 11538.25515096\n",
      " 10971.30479152 11178.97327194 11094.97508736 10840.44904257\n",
      " 11463.70043593 12237.03788361]\n",
      "Mean: 11199.25937303465\n",
      "Standard deviation: 886.0183858546513\n"
     ]
    }
   ],
   "source": [
    "ridge_scores = cross_val_score(ridge_reg, credit_prep, credit_label,\n",
    "                         scoring=\"neg_mean_squared_error\", cv=10)\n",
    "ridge_rmse_scores = np.sqrt(-ridge_scores)\n",
    "display_scores(ridge_rmse_scores)"
   ]
  },
  {
   "cell_type": "code",
   "execution_count": 56,
   "metadata": {},
   "outputs": [
    {
     "data": {
      "text/plain": [
       "Lasso(alpha=1, copy_X=True, fit_intercept=True, max_iter=1000, normalize=False,\n",
       "      positive=False, precompute=False, random_state=None, selection='cyclic',\n",
       "      tol=0.0001, warm_start=False)"
      ]
     },
     "execution_count": 56,
     "metadata": {},
     "output_type": "execute_result"
    }
   ],
   "source": [
    "lasso_reg= Lasso(alpha=1)\n",
    "lasso_reg.fit(credit_prep, credit_label)"
   ]
  },
  {
   "cell_type": "code",
   "execution_count": 57,
   "metadata": {},
   "outputs": [
    {
     "name": "stdout",
     "output_type": "stream",
     "text": [
      "Scores: [ 8985.72027261 11267.88386668 12406.96079083 11572.55504003\n",
      " 10962.50335143 11206.28138151 11092.9040692  10849.98329089\n",
      " 11456.81447886 12234.76710137]\n",
      "Mean: 11203.637364341314\n",
      "Standard deviation: 884.8832812458725\n"
     ]
    }
   ],
   "source": [
    "lasso_scores = cross_val_score(lasso_reg, credit_prep, credit_label,\n",
    "                         scoring=\"neg_mean_squared_error\", cv=10)\n",
    "lasso_rmse_scores = np.sqrt(-lasso_scores)\n",
    "display_scores(lasso_rmse_scores)"
   ]
  },
  {
   "cell_type": "code",
   "execution_count": 58,
   "metadata": {},
   "outputs": [],
   "source": [
    "#as we can see ridge regression has improved its performance. now we have 2 models ridge and elastic . lets predict on testset\n",
    "X_test= strat_test_set.drop(\"cc_cons\", axis=1)\n",
    "y_test = strat_test_set[\"cc_cons\"].copy()\n"
   ]
  },
  {
   "cell_type": "code",
   "execution_count": 59,
   "metadata": {},
   "outputs": [],
   "source": [
    "X_test[\"personal_loan_active\"].fillna(0, inplace= True)\n",
    "X_test[\"personal_loan_closed\"].fillna(0, inplace= True)\n",
    "X_test[\"vehicle_loan_closed\"].fillna(0, inplace= True)\n",
    "X_test[\"vehicle_loan_active\"].fillna(0, inplace= True)\n",
    "X_test[\"loan_enq\"].fillna('N', inplace= True)"
   ]
  },
  {
   "cell_type": "code",
   "execution_count": 60,
   "metadata": {},
   "outputs": [
    {
     "name": "stderr",
     "output_type": "stream",
     "text": [
      "C:\\Users\\Neeharika\\Anaconda3\\lib\\site-packages\\sklearn\\compose\\_column_transformer.py:628: FutureWarning: \n",
      "Passing list-likes to .loc or [] with any missing label will raise\n",
      "KeyError in the future, you can use .reindex() as an alternative.\n",
      "\n",
      "See the documentation here:\n",
      "http://pandas.pydata.org/pandas-docs/stable/indexing.html#deprecate-loc-reindex-listlike\n",
      "  return X.loc[:, key]\n",
      "C:\\Users\\Neeharika\\Anaconda3\\lib\\site-packages\\pandas\\core\\indexing.py:1367: FutureWarning: \n",
      "Passing list-likes to .loc or [] with any missing label will raise\n",
      "KeyError in the future, you can use .reindex() as an alternative.\n",
      "\n",
      "See the documentation here:\n",
      "http://pandas.pydata.org/pandas-docs/stable/indexing.html#deprecate-loc-reindex-listlike\n",
      "  return self._getitem_tuple(key)\n"
     ]
    },
    {
     "data": {
      "text/plain": [
       "10241.243806136714"
      ]
     },
     "execution_count": 60,
     "metadata": {},
     "output_type": "execute_result"
    }
   ],
   "source": [
    "X_test_prepared = full_pipeline.transform(X_test)\n",
    "\n",
    "test_predictions = ridge_reg.predict(X_test_prepared)\n",
    "\n",
    "test_mse = mean_squared_error(y_test, test_predictions)\n",
    "test_rmse = np.sqrt(test_mse)\n",
    "test_rmse"
   ]
  },
  {
   "cell_type": "code",
   "execution_count": 62,
   "metadata": {},
   "outputs": [
    {
     "name": "stderr",
     "output_type": "stream",
     "text": [
      "C:\\Users\\Neeharika\\Anaconda3\\lib\\site-packages\\sklearn\\compose\\_column_transformer.py:628: FutureWarning: \n",
      "Passing list-likes to .loc or [] with any missing label will raise\n",
      "KeyError in the future, you can use .reindex() as an alternative.\n",
      "\n",
      "See the documentation here:\n",
      "http://pandas.pydata.org/pandas-docs/stable/indexing.html#deprecate-loc-reindex-listlike\n",
      "  return X.loc[:, key]\n",
      "C:\\Users\\Neeharika\\Anaconda3\\lib\\site-packages\\pandas\\core\\indexing.py:1367: FutureWarning: \n",
      "Passing list-likes to .loc or [] with any missing label will raise\n",
      "KeyError in the future, you can use .reindex() as an alternative.\n",
      "\n",
      "See the documentation here:\n",
      "http://pandas.pydata.org/pandas-docs/stable/indexing.html#deprecate-loc-reindex-listlike\n",
      "  return self._getitem_tuple(key)\n"
     ]
    },
    {
     "data": {
      "text/plain": [
       "10222.75214770093"
      ]
     },
     "execution_count": 62,
     "metadata": {},
     "output_type": "execute_result"
    }
   ],
   "source": [
    "X_test_prepared = full_pipeline.transform(X_test)\n",
    "\n",
    "test_predictions = elastic_reg.predict(X_test_prepared)\n",
    "\n",
    "test_mse = mean_squared_error(y_test, test_predictions)\n",
    "test_rmse = np.sqrt(test_mse)\n",
    "test_rmse"
   ]
  },
  {
   "cell_type": "code",
   "execution_count": 63,
   "metadata": {},
   "outputs": [
    {
     "data": {
      "text/html": [
       "<div>\n",
       "<style scoped>\n",
       "    .dataframe tbody tr th:only-of-type {\n",
       "        vertical-align: middle;\n",
       "    }\n",
       "\n",
       "    .dataframe tbody tr th {\n",
       "        vertical-align: top;\n",
       "    }\n",
       "\n",
       "    .dataframe thead th {\n",
       "        text-align: right;\n",
       "    }\n",
       "</style>\n",
       "<table border=\"1\" class=\"dataframe\">\n",
       "  <thead>\n",
       "    <tr style=\"text-align: right;\">\n",
       "      <th></th>\n",
       "      <th>id</th>\n",
       "      <th>account_type</th>\n",
       "      <th>gender</th>\n",
       "      <th>age</th>\n",
       "      <th>region_code</th>\n",
       "      <th>cc_cons_apr</th>\n",
       "      <th>dc_cons_apr</th>\n",
       "      <th>cc_cons_may</th>\n",
       "      <th>dc_cons_may</th>\n",
       "      <th>cc_cons_jun</th>\n",
       "      <th>...</th>\n",
       "      <th>credit_count_may</th>\n",
       "      <th>debit_count_may</th>\n",
       "      <th>max_credit_amount_may</th>\n",
       "      <th>debit_amount_jun</th>\n",
       "      <th>credit_amount_jun</th>\n",
       "      <th>credit_count_jun</th>\n",
       "      <th>debit_count_jun</th>\n",
       "      <th>max_credit_amount_jun</th>\n",
       "      <th>loan_enq</th>\n",
       "      <th>emi_active</th>\n",
       "    </tr>\n",
       "  </thead>\n",
       "  <tbody>\n",
       "    <tr>\n",
       "      <th>0</th>\n",
       "      <td>6975</td>\n",
       "      <td>saving</td>\n",
       "      <td>M</td>\n",
       "      <td>36</td>\n",
       "      <td>447</td>\n",
       "      <td>17942.70</td>\n",
       "      <td>1170.0</td>\n",
       "      <td>1656.00</td>\n",
       "      <td>NaN</td>\n",
       "      <td>4551.00</td>\n",
       "      <td>...</td>\n",
       "      <td>3.0</td>\n",
       "      <td>7.0</td>\n",
       "      <td>10000.0</td>\n",
       "      <td>17316.44</td>\n",
       "      <td>5154.0</td>\n",
       "      <td>2.0</td>\n",
       "      <td>8.0</td>\n",
       "      <td>5000.0</td>\n",
       "      <td>NaN</td>\n",
       "      <td>0.00</td>\n",
       "    </tr>\n",
       "    <tr>\n",
       "      <th>1</th>\n",
       "      <td>43223</td>\n",
       "      <td>current</td>\n",
       "      <td>M</td>\n",
       "      <td>31</td>\n",
       "      <td>233</td>\n",
       "      <td>44870.36</td>\n",
       "      <td>NaN</td>\n",
       "      <td>34177.00</td>\n",
       "      <td>NaN</td>\n",
       "      <td>25889.21</td>\n",
       "      <td>...</td>\n",
       "      <td>NaN</td>\n",
       "      <td>NaN</td>\n",
       "      <td>NaN</td>\n",
       "      <td>NaN</td>\n",
       "      <td>NaN</td>\n",
       "      <td>NaN</td>\n",
       "      <td>NaN</td>\n",
       "      <td>NaN</td>\n",
       "      <td>NaN</td>\n",
       "      <td>0.00</td>\n",
       "    </tr>\n",
       "    <tr>\n",
       "      <th>2</th>\n",
       "      <td>45502</td>\n",
       "      <td>current</td>\n",
       "      <td>M</td>\n",
       "      <td>26</td>\n",
       "      <td>823</td>\n",
       "      <td>1073.00</td>\n",
       "      <td>2442.0</td>\n",
       "      <td>4141.00</td>\n",
       "      <td>390.0</td>\n",
       "      <td>6740.29</td>\n",
       "      <td>...</td>\n",
       "      <td>4.0</td>\n",
       "      <td>22.0</td>\n",
       "      <td>26926.0</td>\n",
       "      <td>33981.00</td>\n",
       "      <td>37762.0</td>\n",
       "      <td>3.0</td>\n",
       "      <td>15.0</td>\n",
       "      <td>29352.0</td>\n",
       "      <td>NaN</td>\n",
       "      <td>2885.82</td>\n",
       "    </tr>\n",
       "    <tr>\n",
       "      <th>3</th>\n",
       "      <td>12368</td>\n",
       "      <td>current</td>\n",
       "      <td>M</td>\n",
       "      <td>39</td>\n",
       "      <td>878</td>\n",
       "      <td>33060.58</td>\n",
       "      <td>NaN</td>\n",
       "      <td>3797.12</td>\n",
       "      <td>NaN</td>\n",
       "      <td>291.00</td>\n",
       "      <td>...</td>\n",
       "      <td>4.0</td>\n",
       "      <td>8.0</td>\n",
       "      <td>57185.0</td>\n",
       "      <td>52927.00</td>\n",
       "      <td>89425.0</td>\n",
       "      <td>7.0</td>\n",
       "      <td>11.0</td>\n",
       "      <td>32696.0</td>\n",
       "      <td>NaN</td>\n",
       "      <td>0.00</td>\n",
       "    </tr>\n",
       "    <tr>\n",
       "      <th>4</th>\n",
       "      <td>40415</td>\n",
       "      <td>current</td>\n",
       "      <td>M</td>\n",
       "      <td>44</td>\n",
       "      <td>404</td>\n",
       "      <td>18236.90</td>\n",
       "      <td>NaN</td>\n",
       "      <td>30513.30</td>\n",
       "      <td>NaN</td>\n",
       "      <td>20395.28</td>\n",
       "      <td>...</td>\n",
       "      <td>1.0</td>\n",
       "      <td>5.0</td>\n",
       "      <td>45000.0</td>\n",
       "      <td>31656.69</td>\n",
       "      <td>34275.0</td>\n",
       "      <td>3.0</td>\n",
       "      <td>4.0</td>\n",
       "      <td>19000.0</td>\n",
       "      <td>NaN</td>\n",
       "      <td>3342.58</td>\n",
       "    </tr>\n",
       "  </tbody>\n",
       "</table>\n",
       "<p>5 rows × 43 columns</p>\n",
       "</div>"
      ],
      "text/plain": [
       "      id account_type gender  age  region_code  cc_cons_apr  dc_cons_apr  \\\n",
       "0   6975       saving      M   36          447     17942.70       1170.0   \n",
       "1  43223      current      M   31          233     44870.36          NaN   \n",
       "2  45502      current      M   26          823      1073.00       2442.0   \n",
       "3  12368      current      M   39          878     33060.58          NaN   \n",
       "4  40415      current      M   44          404     18236.90          NaN   \n",
       "\n",
       "   cc_cons_may  dc_cons_may  cc_cons_jun     ...      credit_count_may  \\\n",
       "0      1656.00          NaN      4551.00     ...                   3.0   \n",
       "1     34177.00          NaN     25889.21     ...                   NaN   \n",
       "2      4141.00        390.0      6740.29     ...                   4.0   \n",
       "3      3797.12          NaN       291.00     ...                   4.0   \n",
       "4     30513.30          NaN     20395.28     ...                   1.0   \n",
       "\n",
       "   debit_count_may  max_credit_amount_may  debit_amount_jun  \\\n",
       "0              7.0                10000.0          17316.44   \n",
       "1              NaN                    NaN               NaN   \n",
       "2             22.0                26926.0          33981.00   \n",
       "3              8.0                57185.0          52927.00   \n",
       "4              5.0                45000.0          31656.69   \n",
       "\n",
       "   credit_amount_jun  credit_count_jun  debit_count_jun  \\\n",
       "0             5154.0               2.0              8.0   \n",
       "1                NaN               NaN              NaN   \n",
       "2            37762.0               3.0             15.0   \n",
       "3            89425.0               7.0             11.0   \n",
       "4            34275.0               3.0              4.0   \n",
       "\n",
       "   max_credit_amount_jun  loan_enq  emi_active  \n",
       "0                 5000.0       NaN        0.00  \n",
       "1                    NaN       NaN        0.00  \n",
       "2                29352.0       NaN     2885.82  \n",
       "3                32696.0       NaN        0.00  \n",
       "4                19000.0       NaN     3342.58  \n",
       "\n",
       "[5 rows x 43 columns]"
      ]
     },
     "execution_count": 63,
     "metadata": {},
     "output_type": "execute_result"
    }
   ],
   "source": [
    "#lets test these models on our final test set\n",
    "final_data= pd.read_csv(local_path + 'test.csv')\n",
    "final_data.head()"
   ]
  },
  {
   "cell_type": "code",
   "execution_count": 64,
   "metadata": {},
   "outputs": [],
   "source": [
    "final= final_data.drop('id', axis=1)"
   ]
  },
  {
   "cell_type": "code",
   "execution_count": 65,
   "metadata": {},
   "outputs": [],
   "source": [
    "final[\"personal_loan_active\"].fillna(0, inplace= True)\n",
    "final[\"personal_loan_closed\"].fillna(0, inplace= True)\n",
    "final[\"vehicle_loan_closed\"].fillna(0, inplace= True)\n",
    "final[\"vehicle_loan_active\"].fillna(0, inplace= True)\n",
    "final[\"loan_enq\"].fillna('N', inplace= True)"
   ]
  },
  {
   "cell_type": "code",
   "execution_count": 66,
   "metadata": {},
   "outputs": [
    {
     "name": "stderr",
     "output_type": "stream",
     "text": [
      "C:\\Users\\Neeharika\\Anaconda3\\lib\\site-packages\\sklearn\\compose\\_column_transformer.py:628: FutureWarning: \n",
      "Passing list-likes to .loc or [] with any missing label will raise\n",
      "KeyError in the future, you can use .reindex() as an alternative.\n",
      "\n",
      "See the documentation here:\n",
      "http://pandas.pydata.org/pandas-docs/stable/indexing.html#deprecate-loc-reindex-listlike\n",
      "  return X.loc[:, key]\n",
      "C:\\Users\\Neeharika\\Anaconda3\\lib\\site-packages\\pandas\\core\\indexing.py:1367: FutureWarning: \n",
      "Passing list-likes to .loc or [] with any missing label will raise\n",
      "KeyError in the future, you can use .reindex() as an alternative.\n",
      "\n",
      "See the documentation here:\n",
      "http://pandas.pydata.org/pandas-docs/stable/indexing.html#deprecate-loc-reindex-listlike\n",
      "  return self._getitem_tuple(key)\n"
     ]
    }
   ],
   "source": [
    "final_data_prepared = full_pipeline.transform(final)"
   ]
  },
  {
   "cell_type": "code",
   "execution_count": 67,
   "metadata": {},
   "outputs": [],
   "source": [
    "ridge_predictions = ridge_reg.predict(final_data_prepared)"
   ]
  },
  {
   "cell_type": "code",
   "execution_count": 68,
   "metadata": {},
   "outputs": [],
   "source": [
    "ridge= pd.DataFrame([final_data['id'], ridge_predictions] , index=['id', 'cc_cons'])"
   ]
  },
  {
   "cell_type": "code",
   "execution_count": 73,
   "metadata": {},
   "outputs": [],
   "source": [
    "ridge_pred=ridge.transpose()"
   ]
  },
  {
   "cell_type": "code",
   "execution_count": 74,
   "metadata": {},
   "outputs": [],
   "source": [
    "ridge_pred.to_csv('ridge.csv')"
   ]
  },
  {
   "cell_type": "code",
   "execution_count": 71,
   "metadata": {},
   "outputs": [],
   "source": [
    "net_predictions = elastic_reg.predict(final_data_prepared)"
   ]
  },
  {
   "cell_type": "code",
   "execution_count": 75,
   "metadata": {},
   "outputs": [],
   "source": [
    "net= pd.DataFrame([final_data['id'], net_predictions] , index=['id', 'cc_cons'])"
   ]
  },
  {
   "cell_type": "code",
   "execution_count": 76,
   "metadata": {},
   "outputs": [],
   "source": [
    "net_pred=net.transpose()"
   ]
  },
  {
   "cell_type": "code",
   "execution_count": 77,
   "metadata": {},
   "outputs": [],
   "source": [
    "net_pred.to_csv('net.csv')"
   ]
  },
  {
   "cell_type": "code",
   "execution_count": null,
   "metadata": {},
   "outputs": [],
   "source": []
  }
 ],
 "metadata": {
  "kernelspec": {
   "display_name": "Python 3",
   "language": "python",
   "name": "python3"
  },
  "language_info": {
   "codemirror_mode": {
    "name": "ipython",
    "version": 3
   },
   "file_extension": ".py",
   "mimetype": "text/x-python",
   "name": "python",
   "nbconvert_exporter": "python",
   "pygments_lexer": "ipython3",
   "version": "3.6.4"
  }
 },
 "nbformat": 4,
 "nbformat_minor": 2
}
